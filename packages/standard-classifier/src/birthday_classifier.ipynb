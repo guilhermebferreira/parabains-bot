{
 "cells": [
  {
   "cell_type": "markdown",
   "metadata": {},
   "source": [
    "# Imports e variáveis globais"
   ]
  },
  {
   "cell_type": "code",
   "execution_count": 99,
   "metadata": {},
   "outputs": [],
   "source": [
    "%%capture\n",
    "!pip install pandas\n",
    "!pip install sklearn\n",
    "import pandas as pd\n",
    "from sklearn.model_selection import train_test_split\n",
    "import matplotlib.pyplot as plt"
   ]
  },
  {
   "cell_type": "code",
   "execution_count": 100,
   "metadata": {},
   "outputs": [
    {
     "name": "stdout",
     "output_type": "stream",
     "text": [
      "Tensorflow version 2.1.0\n"
     ]
    }
   ],
   "source": [
    "import tensorflow as tf\n",
    "from tensorflow.keras.preprocessing.text import Tokenizer\n",
    "from tensorflow.keras.preprocessing.sequence import pad_sequences\n",
    "\n",
    "print('Tensorflow version {}'.format(tf.__version__))"
   ]
  },
  {
   "cell_type": "markdown",
   "metadata": {},
   "source": [
    "Algumas variáveis globais para auxiliar no fine-tunning sem ter que procurá-las pelo código."
   ]
  },
  {
   "cell_type": "code",
   "execution_count": 101,
   "metadata": {},
   "outputs": [],
   "source": [
    "vocab_size = 30\n",
    "oov_token = '<OOV>'\n",
    "padding_type = 'post'\n",
    "trunc_type = 'post'\n",
    "padding_max_len = 25\n",
    "embedding_dim = 24\n",
    "num_epochs = 20"
   ]
  },
  {
   "cell_type": "markdown",
   "metadata": {},
   "source": [
    "# Manipulação dos dados"
   ]
  },
  {
   "cell_type": "code",
   "execution_count": 102,
   "metadata": {},
   "outputs": [
    {
     "data": {
      "text/html": [
       "<div>\n",
       "<style scoped>\n",
       "    .dataframe tbody tr th:only-of-type {\n",
       "        vertical-align: middle;\n",
       "    }\n",
       "\n",
       "    .dataframe tbody tr th {\n",
       "        vertical-align: top;\n",
       "    }\n",
       "\n",
       "    .dataframe thead th {\n",
       "        text-align: right;\n",
       "    }\n",
       "</style>\n",
       "<table border=\"1\" class=\"dataframe\">\n",
       "  <thead>\n",
       "    <tr style=\"text-align: right;\">\n",
       "      <th></th>\n",
       "      <th>url</th>\n",
       "      <th>text</th>\n",
       "      <th>is_birthday</th>\n",
       "    </tr>\n",
       "  </thead>\n",
       "  <tbody>\n",
       "    <tr>\n",
       "      <th>0</th>\n",
       "      <td>https://twitter.com/vinaMaria8/status/12491362...</td>\n",
       "      <td>@BiancaEstephan5 @MeLorrane @trouxa_71 Meu ani...</td>\n",
       "      <td>1</td>\n",
       "    </tr>\n",
       "    <tr>\n",
       "      <th>1</th>\n",
       "      <td>https://twitter.com/bia_livros_/status/1249136...</td>\n",
       "      <td>@gusttavo_lima me manda beijooo,hoje é meu ani...</td>\n",
       "      <td>1</td>\n",
       "    </tr>\n",
       "    <tr>\n",
       "      <th>2</th>\n",
       "      <td>https://twitter.com/Gih_Barbosa_/status/124913...</td>\n",
       "      <td>Hoje conversando sobre meu aniversário percebi...</td>\n",
       "      <td>0</td>\n",
       "    </tr>\n",
       "    <tr>\n",
       "      <th>3</th>\n",
       "      <td>https://twitter.com/agatha_cps/status/12491354...</td>\n",
       "      <td>@skol Meu aniversário é hoje, @skol! Só bebend...</td>\n",
       "      <td>1</td>\n",
       "    </tr>\n",
       "    <tr>\n",
       "      <th>4</th>\n",
       "      <td>https://twitter.com/093BWL/status/124913529102...</td>\n",
       "      <td>@lulu_Hirai O meu amoooor, hoje é teu aniversá...</td>\n",
       "      <td>0</td>\n",
       "    </tr>\n",
       "  </tbody>\n",
       "</table>\n",
       "</div>"
      ],
      "text/plain": [
       "                                                 url  \\\n",
       "0  https://twitter.com/vinaMaria8/status/12491362...   \n",
       "1  https://twitter.com/bia_livros_/status/1249136...   \n",
       "2  https://twitter.com/Gih_Barbosa_/status/124913...   \n",
       "3  https://twitter.com/agatha_cps/status/12491354...   \n",
       "4  https://twitter.com/093BWL/status/124913529102...   \n",
       "\n",
       "                                                text  is_birthday  \n",
       "0  @BiancaEstephan5 @MeLorrane @trouxa_71 Meu ani...            1  \n",
       "1  @gusttavo_lima me manda beijooo,hoje é meu ani...            1  \n",
       "2  Hoje conversando sobre meu aniversário percebi...            0  \n",
       "3  @skol Meu aniversário é hoje, @skol! Só bebend...            1  \n",
       "4  @lulu_Hirai O meu amoooor, hoje é teu aniversá...            0  "
      ]
     },
     "execution_count": 102,
     "metadata": {},
     "output_type": "execute_result"
    }
   ],
   "source": [
    "data = pd.read_csv('data.csv', sep=';')\n",
    "data.head()"
   ]
  },
  {
   "cell_type": "code",
   "execution_count": 103,
   "metadata": {},
   "outputs": [],
   "source": [
    "sentences = data['text']\n",
    "urls = data['url']\n",
    "is_birthday = data['is_birthday']"
   ]
  },
  {
   "cell_type": "code",
   "execution_count": 104,
   "metadata": {},
   "outputs": [
    {
     "name": "stdout",
     "output_type": "stream",
     "text": [
      "Train set tem 511 linhas.\n",
      "Test set tem 171 linhas.\n"
     ]
    }
   ],
   "source": [
    "X_train, X_test, y_train, y_test = train_test_split(\n",
    "    sentences, \n",
    "    is_birthday, \n",
    "    shuffle=True, \n",
    "    random_state=42,\n",
    "    stratify=is_birthday\n",
    ")\n",
    "\n",
    "print(\"Train set tem {} linhas.\\nTest set tem {} linhas.\".format(X_train.shape[0], X_test.shape[0]))"
   ]
  },
  {
   "cell_type": "markdown",
   "metadata": {},
   "source": [
    "# Word embeddings"
   ]
  },
  {
   "cell_type": "code",
   "execution_count": 105,
   "metadata": {},
   "outputs": [],
   "source": [
    "tokenizer = Tokenizer(num_words=vocab_size, oov_token=oov_token)\n",
    "tokenizer.fit_on_texts(X_train)\n",
    "word_index = tokenizer.word_index\n",
    "reverse_word_index = dict([(value, key) for (key, value) in word_index.items()])"
   ]
  },
  {
   "cell_type": "code",
   "execution_count": 106,
   "metadata": {},
   "outputs": [],
   "source": [
    "# Train sequences\n",
    "sequences = tokenizer.texts_to_sequences(X_train)\n",
    "padded = pad_sequences(sequences, padding=padding_type, truncating=trunc_type, maxlen=padding_max_len)\n",
    "\n",
    "# Test sequences\n",
    "testing_sequences = tokenizer.texts_to_sequences(X_test)\n",
    "testing_padded = pad_sequences(testing_sequences, padding=padding_type, truncating=trunc_type, maxlen=padding_max_len)"
   ]
  },
  {
   "cell_type": "code",
   "execution_count": 107,
   "metadata": {},
   "outputs": [
    {
     "name": "stdout",
     "output_type": "stream",
     "text": [
      "Model: \"sequential_6\"\n",
      "_________________________________________________________________\n",
      "Layer (type)                 Output Shape              Param #   \n",
      "=================================================================\n",
      "embedding_6 (Embedding)      (None, 25, 24)            720       \n",
      "_________________________________________________________________\n",
      "bidirectional_10 (Bidirectio (None, 25, 256)           156672    \n",
      "_________________________________________________________________\n",
      "bidirectional_11 (Bidirectio (None, 128)               164352    \n",
      "_________________________________________________________________\n",
      "dense_12 (Dense)             (None, 24)                3096      \n",
      "_________________________________________________________________\n",
      "dense_13 (Dense)             (None, 1)                 25        \n",
      "=================================================================\n",
      "Total params: 324,865\n",
      "Trainable params: 324,865\n",
      "Non-trainable params: 0\n",
      "_________________________________________________________________\n"
     ]
    }
   ],
   "source": [
    "model = tf.keras.Sequential([\n",
    "    tf.keras.layers.Embedding(vocab_size, embedding_dim, input_length=padding_max_len),\n",
    "#     If the data is big enough, uncomment the LSTM steps below and remove the Flatten step\n",
    "    tf.keras.layers.Bidirectional(tf.keras.layers.LSTM(128, return_sequences=True)),\n",
    "    tf.keras.layers.Bidirectional(tf.keras.layers.LSTM(64)),\n",
    "#     tf.keras.layers.Flatten(),\n",
    "    tf.keras.layers.Dense(24, activation='relu'),\n",
    "    tf.keras.layers.Dense(1, activation='sigmoid')\n",
    "])\n",
    "model.compile(loss='binary_crossentropy',optimizer='adam',metrics=['accuracy'])\n",
    "model.summary()"
   ]
  },
  {
   "cell_type": "code",
   "execution_count": 108,
   "metadata": {},
   "outputs": [
    {
     "name": "stdout",
     "output_type": "stream",
     "text": [
      "Train on 511 samples, validate on 171 samples\n",
      "Epoch 1/20\n",
      "511/511 [==============================] - 8s 15ms/sample - loss: 0.5978 - accuracy: 0.7613 - val_loss: 0.4695 - val_accuracy: 0.7953\n",
      "Epoch 2/20\n",
      "511/511 [==============================] - 2s 3ms/sample - loss: 0.4428 - accuracy: 0.8043 - val_loss: 0.3909 - val_accuracy: 0.7953\n",
      "Epoch 3/20\n",
      "511/511 [==============================] - 2s 3ms/sample - loss: 0.4273 - accuracy: 0.8043 - val_loss: 0.4041 - val_accuracy: 0.7953\n",
      "Epoch 4/20\n",
      "511/511 [==============================] - 2s 3ms/sample - loss: 0.4172 - accuracy: 0.8004 - val_loss: 0.3713 - val_accuracy: 0.8363\n",
      "Epoch 5/20\n",
      "511/511 [==============================] - 2s 3ms/sample - loss: 0.4006 - accuracy: 0.7984 - val_loss: 0.3860 - val_accuracy: 0.8304\n",
      "Epoch 6/20\n",
      "511/511 [==============================] - 2s 4ms/sample - loss: 0.3924 - accuracy: 0.8376 - val_loss: 0.3716 - val_accuracy: 0.9006\n",
      "Epoch 7/20\n",
      "511/511 [==============================] - 2s 3ms/sample - loss: 0.3306 - accuracy: 0.8513 - val_loss: 0.2980 - val_accuracy: 0.8713\n",
      "Epoch 8/20\n",
      "511/511 [==============================] - 2s 3ms/sample - loss: 0.2764 - accuracy: 0.8689 - val_loss: 0.3102 - val_accuracy: 0.8655\n",
      "Epoch 9/20\n",
      "511/511 [==============================] - 2s 3ms/sample - loss: 0.2619 - accuracy: 0.8669 - val_loss: 0.3012 - val_accuracy: 0.8830\n",
      "Epoch 10/20\n",
      "511/511 [==============================] - 2s 3ms/sample - loss: 0.2711 - accuracy: 0.8728 - val_loss: 0.3092 - val_accuracy: 0.8772\n",
      "Epoch 11/20\n",
      "511/511 [==============================] - 2s 3ms/sample - loss: 0.2559 - accuracy: 0.8787 - val_loss: 0.3358 - val_accuracy: 0.8538\n",
      "Epoch 12/20\n",
      "511/511 [==============================] - 2s 3ms/sample - loss: 0.2440 - accuracy: 0.8787 - val_loss: 0.3182 - val_accuracy: 0.9006\n",
      "Epoch 13/20\n",
      "511/511 [==============================] - 2s 3ms/sample - loss: 0.2444 - accuracy: 0.8924 - val_loss: 0.2963 - val_accuracy: 0.9006\n",
      "Epoch 14/20\n",
      "511/511 [==============================] - 2s 4ms/sample - loss: 0.2421 - accuracy: 0.8845 - val_loss: 0.3072 - val_accuracy: 0.8655\n",
      "Epoch 15/20\n",
      "511/511 [==============================] - 2s 3ms/sample - loss: 0.2367 - accuracy: 0.8943 - val_loss: 0.3343 - val_accuracy: 0.8596\n",
      "Epoch 16/20\n",
      "511/511 [==============================] - 2s 4ms/sample - loss: 0.2279 - accuracy: 0.8982 - val_loss: 0.2737 - val_accuracy: 0.9006\n",
      "Epoch 17/20\n",
      "511/511 [==============================] - 2s 3ms/sample - loss: 0.2186 - accuracy: 0.9041 - val_loss: 0.3156 - val_accuracy: 0.8713\n",
      "Epoch 18/20\n",
      "511/511 [==============================] - 2s 3ms/sample - loss: 0.2138 - accuracy: 0.9217 - val_loss: 0.3726 - val_accuracy: 0.8655\n",
      "Epoch 19/20\n",
      "511/511 [==============================] - 2s 4ms/sample - loss: 0.2223 - accuracy: 0.9080 - val_loss: 0.3090 - val_accuracy: 0.8655\n",
      "Epoch 20/20\n",
      "511/511 [==============================] - 2s 3ms/sample - loss: 0.2080 - accuracy: 0.9041 - val_loss: 0.3162 - val_accuracy: 0.8713\n"
     ]
    }
   ],
   "source": [
    "history = model.fit(padded, y_train, epochs=num_epochs, validation_data=(testing_padded, y_test));"
   ]
  },
  {
   "cell_type": "code",
   "execution_count": 109,
   "metadata": {},
   "outputs": [
    {
     "data": {
      "image/png": "[encoded data removed]",
      "text/plain": [
       "<Figure size 432x288 with 1 Axes>"
      ]
     },
     "metadata": {
      "needs_background": "light"
     },
     "output_type": "display_data"
    },
    {
     "data": {
      "image/png": "[encoded data removed]",
      "text/plain": [
       "<Figure size 432x288 with 1 Axes>"
      ]
     },
     "metadata": {
      "needs_background": "light"
     },
     "output_type": "display_data"
    }
   ],
   "source": [
    "def plot_graphs(history, string):\n",
    "    plt.plot(history.history[string])\n",
    "    plt.plot(history.history['val_'+string])\n",
    "    plt.xlabel('Epochs')\n",
    "    plt.ylabel(string)\n",
    "    plt.legend([string, 'val_'+string])\n",
    "    plt.show()\n",
    "    \n",
    "plot_graphs(history, 'accuracy')\n",
    "plot_graphs(history, 'loss')"
   ]
  },
  {
   "cell_type": "markdown",
   "metadata": {},
   "source": [
    "### Gerando arquivos para visualizar o embedding\n",
    "\n",
    "O snippet abaixo gera dois arquivos que podem ser visualizados se upados em https://projector.tensorflow.org\n",
    "\n",
    "*TODO*: implementar `projector` de `tensorboard.plugins`"
   ]
  },
  {
   "cell_type": "code",
   "execution_count": 110,
   "metadata": {},
   "outputs": [],
   "source": [
    "e = model.layers[0]\n",
    "weights = e.get_weights()[0]\n",
    "\n",
    "import io\n",
    "\n",
    "out_v = io.open('vecs.tsv', 'w', encoding='utf-8')\n",
    "out_m = io.open('meta.tsv', 'w', encoding='utf-8')\n",
    "\n",
    "for word_num in range(1, weights.shape[0]):\n",
    "    word = reverse_word_index[word_num]\n",
    "    embeddings = weights[word_num]\n",
    "    out_m.write(word + \"\\n\")\n",
    "    out_v.write('\\t'.join([str(x) for x in embeddings]) + \"\\n\")\n",
    "    \n",
    "out_v.close()\n",
    "out_m.close()"
   ]
  },
  {
   "cell_type": "code",
   "execution_count": 111,
   "metadata": {},
   "outputs": [
    {
     "name": "stdout",
     "output_type": "stream",
     "text": [
      "[[0.00205017]\n",
      " [0.7202059 ]\n",
      " [0.38860926]\n",
      " [0.8935133 ]\n",
      " [0.06254638]]\n"
     ]
    }
   ],
   "source": [
    "generate_embeddings = lambda predict_sequences: pad_sequences(\n",
    "    tokenizer.texts_to_sequences(predict_sequences), \n",
    "    padding=padding_type, \n",
    "    truncating=trunc_type, \n",
    "    maxlen=padding_max_len)\n",
    "\n",
    "predict_on = generate_embeddings([\n",
    "    'Hoje é o aniversário do meu filho', \n",
    "    'oi gnt hj é meu niver', \n",
    "    'oi gnt hj não é meu niver',\n",
    "    'hoje é o meu aniversário',\n",
    "    'hoje não é o meu aniversário'\n",
    "])\n",
    "\n",
    "prediction = model.predict(predict_on)\n",
    "\n",
    "print(prediction)"
   ]
  },
  {
   "cell_type": "markdown",
   "metadata": {},
   "source": [
    "### Exportando para tensorflow.js"
   ]
  },
  {
   "cell_type": "code",
   "execution_count": 112,
   "metadata": {},
   "outputs": [],
   "source": [
    "%%capture\n",
    "!pip install tensorflowjs\n",
    "import json\n",
    "import tensorflowjs as tfjs"
   ]
  },
  {
   "cell_type": "code",
   "execution_count": 113,
   "metadata": {},
   "outputs": [],
   "source": [
    "def export_model(m, words_vocab):\n",
    "    tfjs.converters.save_keras_model(m, './__generated__')\n",
    "\n",
    "    with open(\"./__generated__/config.ts\", 'w') as f:\n",
    "        f.write('export const vocabulary_size = {};\\n\\n'.format(vocab_size))\n",
    "        f.write('export const oov_token = \"{}\";\\n\\n'.format(oov_token))\n",
    "        f.write('export const padding_type = \"{}\";\\n\\n'.format(padding_type))\n",
    "        f.write('export const trunc_type = \"{}\";\\n\\n'.format(trunc_type))\n",
    "        f.write('export const padding_max_len = {};\\n\\n'.format(padding_max_len))\n",
    "        f.write('export const vocabulary = {\\n')\n",
    "        for (index, l) in enumerate(json.dumps(words_vocab)[1:-1].split(\",\")):\n",
    "            if index < vocab_size:\n",
    "                f.write(\"  \"+l+',\\n')\n",
    "        f.write('};\\n')"
   ]
  },
  {
   "cell_type": "code",
   "execution_count": 114,
   "metadata": {},
   "outputs": [
    {
     "name": "stderr",
     "output_type": "stream",
     "text": [
      "/usr/local/lib/python3.6/dist-packages/tensorflowjs/converters/keras_h5_conversion.py:122: H5pyDeprecationWarning: The default file mode will change to 'r' (read-only) in h5py 3.0. To suppress this warning, pass the mode you need to h5py.File(), or set the global default h5.get_config().default_file_mode, or set the environment variable H5PY_DEFAULT_READONLY=1. Available modes are: 'r', 'r+', 'w', 'w-'/'x', 'a'. See the docs for details.\n",
      "  return h5py.File(h5file)\n"
     ]
    }
   ],
   "source": [
    "export_model(model, word_index)"
   ]
  }
 ],
 "metadata": {
  "kernelspec": {
   "display_name": "Python 3",
   "language": "python",
   "name": "python3"
  },
  "language_info": {
   "codemirror_mode": {
    "name": "ipython",
    "version": 3
   },
   "file_extension": ".py",
   "mimetype": "text/x-python",
   "name": "python",
   "nbconvert_exporter": "python",
   "pygments_lexer": "ipython3",
   "version": "3.6.9"
  }
 },
 "nbformat": 4,
 "nbformat_minor": 4
}
