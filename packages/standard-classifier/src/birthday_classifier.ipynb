{
 "cells": [
  {
   "cell_type": "markdown",
   "metadata": {},
   "source": [
    "# Imports e variáveis globais"
   ]
  },
  {
   "cell_type": "code",
   "execution_count": 1,
   "metadata": {},
   "outputs": [],
   "source": [
    "%%capture\n",
    "!pip install pandas\n",
    "!pip install sklearn\n",
    "import pandas as pd\n",
    "from sklearn.model_selection import train_test_split\n",
    "import matplotlib.pyplot as plt"
   ]
  },
  {
   "cell_type": "code",
   "execution_count": 2,
   "metadata": {},
   "outputs": [
    {
     "name": "stdout",
     "output_type": "stream",
     "text": [
      "Tensorflow version 2.1.0\n"
     ]
    }
   ],
   "source": [
    "import tensorflow as tf\n",
    "from tensorflow.keras.preprocessing.text import Tokenizer\n",
    "from tensorflow.keras.preprocessing.sequence import pad_sequences\n",
    "\n",
    "print('Tensorflow version {}'.format(tf.__version__))"
   ]
  },
  {
   "cell_type": "markdown",
   "metadata": {},
   "source": [
    "Algumas variáveis globais para auxiliar no fine-tunning sem ter que procurá-las pelo código."
   ]
  },
  {
   "cell_type": "code",
   "execution_count": 3,
   "metadata": {},
   "outputs": [],
   "source": [
    "vocab_size = 50\n",
    "oov_token = '<OOV>'\n",
    "padding_type = 'post'\n",
    "trunc_type = 'post'\n",
    "padding_max_len = 25\n",
    "embedding_dim = 8\n",
    "num_epochs = 50"
   ]
  },
  {
   "cell_type": "markdown",
   "metadata": {},
   "source": [
    "# Manipulação dos dados"
   ]
  },
  {
   "cell_type": "code",
   "execution_count": 4,
   "metadata": {},
   "outputs": [
    {
     "data": {
      "text/html": [
       "<div>\n",
       "<style scoped>\n",
       "    .dataframe tbody tr th:only-of-type {\n",
       "        vertical-align: middle;\n",
       "    }\n",
       "\n",
       "    .dataframe tbody tr th {\n",
       "        vertical-align: top;\n",
       "    }\n",
       "\n",
       "    .dataframe thead th {\n",
       "        text-align: right;\n",
       "    }\n",
       "</style>\n",
       "<table border=\"1\" class=\"dataframe\">\n",
       "  <thead>\n",
       "    <tr style=\"text-align: right;\">\n",
       "      <th></th>\n",
       "      <th>url</th>\n",
       "      <th>text</th>\n",
       "      <th>is_birthday</th>\n",
       "    </tr>\n",
       "  </thead>\n",
       "  <tbody>\n",
       "    <tr>\n",
       "      <th>0</th>\n",
       "      <td>https://twitter.com/mauriciolopesx/status/1247...</td>\n",
       "      <td>meu aniversário hoje e...   o que eu esperava:...</td>\n",
       "      <td>1</td>\n",
       "    </tr>\n",
       "    <tr>\n",
       "      <th>1</th>\n",
       "      <td>https://twitter.com/catherinealvs3/status/1247...</td>\n",
       "      <td>hoje é meu aniversário e eu passei basicamente...</td>\n",
       "      <td>1</td>\n",
       "    </tr>\n",
       "    <tr>\n",
       "      <th>2</th>\n",
       "      <td>https://twitter.com/Pao_de_batata20/status/124...</td>\n",
       "      <td>@BabuSantana ADM manda um salve, hoje é meu an...</td>\n",
       "      <td>1</td>\n",
       "    </tr>\n",
       "    <tr>\n",
       "      <th>3</th>\n",
       "      <td>https://twitter.com/Pao_de_batata20/status/124...</td>\n",
       "      <td>@anapaularenault @anapaularenault hoje é meu a...</td>\n",
       "      <td>1</td>\n",
       "    </tr>\n",
       "    <tr>\n",
       "      <th>4</th>\n",
       "      <td>https://twitter.com/felipealbano_/status/12479...</td>\n",
       "      <td>@giucatao hoje é meu aniversário mas quem tá d...</td>\n",
       "      <td>1</td>\n",
       "    </tr>\n",
       "  </tbody>\n",
       "</table>\n",
       "</div>"
      ],
      "text/plain": [
       "                                                 url  \\\n",
       "0  https://twitter.com/mauriciolopesx/status/1247...   \n",
       "1  https://twitter.com/catherinealvs3/status/1247...   \n",
       "2  https://twitter.com/Pao_de_batata20/status/124...   \n",
       "3  https://twitter.com/Pao_de_batata20/status/124...   \n",
       "4  https://twitter.com/felipealbano_/status/12479...   \n",
       "\n",
       "                                                text  is_birthday  \n",
       "0  meu aniversário hoje e...   o que eu esperava:...            1  \n",
       "1  hoje é meu aniversário e eu passei basicamente...            1  \n",
       "2  @BabuSantana ADM manda um salve, hoje é meu an...            1  \n",
       "3  @anapaularenault @anapaularenault hoje é meu a...            1  \n",
       "4  @giucatao hoje é meu aniversário mas quem tá d...            1  "
      ]
     },
     "execution_count": 4,
     "metadata": {},
     "output_type": "execute_result"
    }
   ],
   "source": [
    "data = pd.read_csv('data.csv', sep=';')\n",
    "data.head()"
   ]
  },
  {
   "cell_type": "code",
   "execution_count": 5,
   "metadata": {},
   "outputs": [],
   "source": [
    "sentences = data['text']\n",
    "urls = data['url']\n",
    "is_birthday = data['is_birthday']"
   ]
  },
  {
   "cell_type": "code",
   "execution_count": 6,
   "metadata": {},
   "outputs": [
    {
     "name": "stdout",
     "output_type": "stream",
     "text": [
      "Train set tem 372 linhas.\n",
      "Test set tem 124 linhas.\n"
     ]
    }
   ],
   "source": [
    "X_train, X_test, y_train, y_test = train_test_split(\n",
    "    sentences, \n",
    "    is_birthday, \n",
    "    shuffle=True, \n",
    "    random_state=42,\n",
    "    stratify=is_birthday\n",
    ")\n",
    "\n",
    "print(\"Train set tem {} linhas.\\nTest set tem {} linhas.\".format(X_train.shape[0], X_test.shape[0]))"
   ]
  },
  {
   "cell_type": "markdown",
   "metadata": {},
   "source": [
    "# Word embeddings"
   ]
  },
  {
   "cell_type": "code",
   "execution_count": 7,
   "metadata": {},
   "outputs": [],
   "source": [
    "tokenizer = Tokenizer(num_words=vocab_size, oov_token=oov_token)\n",
    "tokenizer.fit_on_texts(X_train)\n",
    "word_index = tokenizer.word_index\n",
    "reverse_word_index = dict([(value, key) for (key, value) in word_index.items()])"
   ]
  },
  {
   "cell_type": "code",
   "execution_count": 8,
   "metadata": {},
   "outputs": [],
   "source": [
    "# Train sequences\n",
    "sequences = tokenizer.texts_to_sequences(X_train)\n",
    "padded = pad_sequences(sequences, padding=padding_type, truncating=trunc_type, maxlen=padding_max_len)\n",
    "\n",
    "# Test sequences\n",
    "testing_sequences = tokenizer.texts_to_sequences(X_test)\n",
    "testing_padded = pad_sequences(testing_sequences, padding=padding_type, truncating=trunc_type, maxlen=padding_max_len)"
   ]
  },
  {
   "cell_type": "code",
   "execution_count": 9,
   "metadata": {},
   "outputs": [
    {
     "name": "stdout",
     "output_type": "stream",
     "text": [
      "Model: \"sequential\"\n",
      "_________________________________________________________________\n",
      "Layer (type)                 Output Shape              Param #   \n",
      "=================================================================\n",
      "embedding (Embedding)        (None, 25, 8)             400       \n",
      "_________________________________________________________________\n",
      "bidirectional (Bidirectional (None, 25, 256)           140288    \n",
      "_________________________________________________________________\n",
      "bidirectional_1 (Bidirection (None, 128)               164352    \n",
      "_________________________________________________________________\n",
      "dense (Dense)                (None, 24)                3096      \n",
      "_________________________________________________________________\n",
      "dense_1 (Dense)              (None, 1)                 25        \n",
      "=================================================================\n",
      "Total params: 308,161\n",
      "Trainable params: 308,161\n",
      "Non-trainable params: 0\n",
      "_________________________________________________________________\n"
     ]
    }
   ],
   "source": [
    "model = tf.keras.Sequential([\n",
    "    tf.keras.layers.Embedding(vocab_size, embedding_dim, input_length=padding_max_len),\n",
    "    tf.keras.layers.Bidirectional(tf.keras.layers.LSTM(128, return_sequences=True)),\n",
    "    tf.keras.layers.Bidirectional(tf.keras.layers.LSTM(64)),\n",
    "    tf.keras.layers.Dense(24, activation='relu'),\n",
    "    tf.keras.layers.Dense(1, activation='sigmoid')\n",
    "])\n",
    "model.compile(loss='binary_crossentropy',optimizer='adam',metrics=['accuracy'])\n",
    "model.summary()"
   ]
  },
  {
   "cell_type": "code",
   "execution_count": 10,
   "metadata": {},
   "outputs": [
    {
     "name": "stdout",
     "output_type": "stream",
     "text": [
      "Train on 372 samples, validate on 124 samples\n",
      "Epoch 1/50\n",
      "372/372 [==============================] - 7s 19ms/sample - loss: 0.5886 - accuracy: 0.8145 - val_loss: 0.4633 - val_accuracy: 0.8145\n",
      "Epoch 2/50\n",
      "372/372 [==============================] - 1s 3ms/sample - loss: 0.4599 - accuracy: 0.8145 - val_loss: 0.4444 - val_accuracy: 0.8145\n",
      "Epoch 3/50\n",
      "372/372 [==============================] - 1s 3ms/sample - loss: 0.4195 - accuracy: 0.8038 - val_loss: 0.4425 - val_accuracy: 0.8065\n",
      "Epoch 4/50\n",
      "372/372 [==============================] - 1s 3ms/sample - loss: 0.3945 - accuracy: 0.8145 - val_loss: 0.4299 - val_accuracy: 0.8145\n",
      "Epoch 5/50\n",
      "372/372 [==============================] - 1s 3ms/sample - loss: 0.3801 - accuracy: 0.8145 - val_loss: 0.4618 - val_accuracy: 0.8145\n",
      "Epoch 6/50\n",
      "372/372 [==============================] - 1s 3ms/sample - loss: 0.3757 - accuracy: 0.8145 - val_loss: 0.4126 - val_accuracy: 0.8145\n",
      "Epoch 7/50\n",
      "372/372 [==============================] - 1s 4ms/sample - loss: 0.3511 - accuracy: 0.8145 - val_loss: 0.3905 - val_accuracy: 0.7984\n",
      "Epoch 8/50\n",
      "372/372 [==============================] - 1s 3ms/sample - loss: 0.3310 - accuracy: 0.8333 - val_loss: 0.3389 - val_accuracy: 0.8306\n",
      "Epoch 9/50\n",
      "372/372 [==============================] - 1s 4ms/sample - loss: 0.2947 - accuracy: 0.8548 - val_loss: 0.3230 - val_accuracy: 0.8548\n",
      "Epoch 10/50\n",
      "372/372 [==============================] - 1s 3ms/sample - loss: 0.2890 - accuracy: 0.8790 - val_loss: 0.3303 - val_accuracy: 0.8548\n",
      "Epoch 11/50\n",
      "372/372 [==============================] - 1s 3ms/sample - loss: 0.2609 - accuracy: 0.8763 - val_loss: 0.2802 - val_accuracy: 0.8710\n",
      "Epoch 12/50\n",
      "372/372 [==============================] - 1s 3ms/sample - loss: 0.2357 - accuracy: 0.8871 - val_loss: 0.2711 - val_accuracy: 0.8629\n",
      "Epoch 13/50\n",
      "372/372 [==============================] - 1s 3ms/sample - loss: 0.2417 - accuracy: 0.8925 - val_loss: 0.2674 - val_accuracy: 0.8387\n",
      "Epoch 14/50\n",
      "372/372 [==============================] - 1s 3ms/sample - loss: 0.2166 - accuracy: 0.8978 - val_loss: 0.2699 - val_accuracy: 0.8710\n",
      "Epoch 15/50\n",
      "372/372 [==============================] - 1s 3ms/sample - loss: 0.2049 - accuracy: 0.9059 - val_loss: 0.4171 - val_accuracy: 0.8306\n",
      "Epoch 16/50\n",
      "372/372 [==============================] - 1s 4ms/sample - loss: 0.2128 - accuracy: 0.9005 - val_loss: 0.2943 - val_accuracy: 0.8629\n",
      "Epoch 17/50\n",
      "372/372 [==============================] - 1s 3ms/sample - loss: 0.2024 - accuracy: 0.9140 - val_loss: 0.2724 - val_accuracy: 0.8548\n",
      "Epoch 18/50\n",
      "372/372 [==============================] - 1s 3ms/sample - loss: 0.2202 - accuracy: 0.9005 - val_loss: 0.2872 - val_accuracy: 0.8548\n",
      "Epoch 19/50\n",
      "372/372 [==============================] - 1s 4ms/sample - loss: 0.1904 - accuracy: 0.9032 - val_loss: 0.3648 - val_accuracy: 0.8387\n",
      "Epoch 20/50\n",
      "372/372 [==============================] - 1s 3ms/sample - loss: 0.2050 - accuracy: 0.9086 - val_loss: 0.2994 - val_accuracy: 0.8468\n",
      "Epoch 21/50\n",
      "372/372 [==============================] - 1s 4ms/sample - loss: 0.2046 - accuracy: 0.9086 - val_loss: 0.2974 - val_accuracy: 0.8548\n",
      "Epoch 22/50\n",
      "372/372 [==============================] - 1s 3ms/sample - loss: 0.1996 - accuracy: 0.8925 - val_loss: 0.2631 - val_accuracy: 0.8468\n",
      "Epoch 23/50\n",
      "372/372 [==============================] - 1s 3ms/sample - loss: 0.1896 - accuracy: 0.8978 - val_loss: 0.3186 - val_accuracy: 0.8629\n",
      "Epoch 24/50\n",
      "372/372 [==============================] - 1s 3ms/sample - loss: 0.1749 - accuracy: 0.9220 - val_loss: 0.4256 - val_accuracy: 0.8387\n",
      "Epoch 25/50\n",
      "372/372 [==============================] - 1s 3ms/sample - loss: 0.1936 - accuracy: 0.9059 - val_loss: 0.3107 - val_accuracy: 0.8548\n",
      "Epoch 26/50\n",
      "372/372 [==============================] - 1s 3ms/sample - loss: 0.1906 - accuracy: 0.9005 - val_loss: 0.2465 - val_accuracy: 0.8790\n",
      "Epoch 27/50\n",
      "372/372 [==============================] - 1s 3ms/sample - loss: 0.1821 - accuracy: 0.9113 - val_loss: 0.2688 - val_accuracy: 0.8468\n",
      "Epoch 28/50\n",
      "372/372 [==============================] - 1s 4ms/sample - loss: 0.1702 - accuracy: 0.9086 - val_loss: 0.2900 - val_accuracy: 0.8548\n",
      "Epoch 29/50\n",
      "372/372 [==============================] - 2s 4ms/sample - loss: 0.1698 - accuracy: 0.9220 - val_loss: 0.3049 - val_accuracy: 0.8306\n",
      "Epoch 30/50\n",
      "372/372 [==============================] - 1s 4ms/sample - loss: 0.1599 - accuracy: 0.9274 - val_loss: 0.2751 - val_accuracy: 0.8468\n",
      "Epoch 31/50\n",
      "372/372 [==============================] - 1s 3ms/sample - loss: 0.1520 - accuracy: 0.9355 - val_loss: 0.2698 - val_accuracy: 0.8629\n",
      "Epoch 32/50\n",
      "372/372 [==============================] - 1s 4ms/sample - loss: 0.1646 - accuracy: 0.9194 - val_loss: 0.3546 - val_accuracy: 0.8226\n",
      "Epoch 33/50\n",
      "372/372 [==============================] - 1s 4ms/sample - loss: 0.1276 - accuracy: 0.9409 - val_loss: 0.2738 - val_accuracy: 0.8710\n",
      "Epoch 34/50\n",
      "372/372 [==============================] - 1s 4ms/sample - loss: 0.1222 - accuracy: 0.9435 - val_loss: 0.3522 - val_accuracy: 0.8387\n",
      "Epoch 35/50\n",
      "372/372 [==============================] - 1s 3ms/sample - loss: 0.1099 - accuracy: 0.9489 - val_loss: 0.3791 - val_accuracy: 0.8710\n",
      "Epoch 36/50\n",
      "372/372 [==============================] - 1s 3ms/sample - loss: 0.1084 - accuracy: 0.9489 - val_loss: 0.3173 - val_accuracy: 0.8548\n",
      "Epoch 37/50\n",
      "372/372 [==============================] - 1s 3ms/sample - loss: 0.1196 - accuracy: 0.9462 - val_loss: 0.3483 - val_accuracy: 0.8387\n",
      "Epoch 38/50\n",
      "372/372 [==============================] - 1s 3ms/sample - loss: 0.1055 - accuracy: 0.9543 - val_loss: 0.4308 - val_accuracy: 0.8871\n",
      "Epoch 39/50\n",
      "372/372 [==============================] - 1s 3ms/sample - loss: 0.1030 - accuracy: 0.9516 - val_loss: 0.3991 - val_accuracy: 0.8871\n",
      "Epoch 40/50\n",
      "372/372 [==============================] - 1s 4ms/sample - loss: 0.0948 - accuracy: 0.9570 - val_loss: 0.3821 - val_accuracy: 0.8710\n",
      "Epoch 41/50\n",
      "372/372 [==============================] - 2s 5ms/sample - loss: 0.0662 - accuracy: 0.9731 - val_loss: 0.5652 - val_accuracy: 0.8790\n",
      "Epoch 42/50\n",
      "372/372 [==============================] - 1s 3ms/sample - loss: 0.0542 - accuracy: 0.9758 - val_loss: 0.5893 - val_accuracy: 0.8871\n",
      "Epoch 43/50\n",
      "372/372 [==============================] - 1s 3ms/sample - loss: 0.0527 - accuracy: 0.9731 - val_loss: 0.5067 - val_accuracy: 0.8952\n",
      "Epoch 44/50\n",
      "372/372 [==============================] - 1s 4ms/sample - loss: 0.0808 - accuracy: 0.9624 - val_loss: 0.6101 - val_accuracy: 0.8871\n",
      "Epoch 45/50\n",
      "372/372 [==============================] - 1s 3ms/sample - loss: 0.0681 - accuracy: 0.9785 - val_loss: 0.6165 - val_accuracy: 0.8790\n",
      "Epoch 46/50\n",
      "372/372 [==============================] - 1s 3ms/sample - loss: 0.0742 - accuracy: 0.9731 - val_loss: 0.5933 - val_accuracy: 0.8952\n",
      "Epoch 47/50\n",
      "372/372 [==============================] - 3s 7ms/sample - loss: 0.0538 - accuracy: 0.9758 - val_loss: 0.6403 - val_accuracy: 0.9032\n",
      "Epoch 48/50\n",
      "372/372 [==============================] - 2s 6ms/sample - loss: 0.0478 - accuracy: 0.9758 - val_loss: 0.4958 - val_accuracy: 0.8710\n",
      "Epoch 49/50\n",
      "372/372 [==============================] - 3s 8ms/sample - loss: 0.0437 - accuracy: 0.9866 - val_loss: 0.5732 - val_accuracy: 0.8871\n",
      "Epoch 50/50\n",
      "372/372 [==============================] - 2s 6ms/sample - loss: 0.0477 - accuracy: 0.9758 - val_loss: 0.6378 - val_accuracy: 0.8871\n"
     ]
    }
   ],
   "source": [
    "history = model.fit(padded, y_train, epochs=num_epochs, validation_data=(testing_padded, y_test));"
   ]
  },
  {
   "cell_type": "code",
   "execution_count": 11,
   "metadata": {},
   "outputs": [
    {
     "data": {
      "image/png": "[encoded data removed]",
      "text/plain": [
       "<Figure size 432x288 with 1 Axes>"
      ]
     },
     "metadata": {
      "needs_background": "light"
     },
     "output_type": "display_data"
    },
    {
     "data": {
      "image/png": "[encoded data removed]",
      "text/plain": [
       "<Figure size 432x288 with 1 Axes>"
      ]
     },
     "metadata": {
      "needs_background": "light"
     },
     "output_type": "display_data"
    }
   ],
   "source": [
    "def plot_graphs(history, string):\n",
    "    plt.plot(history.history[string])\n",
    "    plt.plot(history.history['val_'+string])\n",
    "    plt.xlabel('Epochs')\n",
    "    plt.ylabel(string)\n",
    "    plt.legend([string, 'val_'+string])\n",
    "    plt.show()\n",
    "    \n",
    "plot_graphs(history, 'accuracy')\n",
    "plot_graphs(history, 'loss')"
   ]
  },
  {
   "cell_type": "markdown",
   "metadata": {},
   "source": [
    "### Gerando arquivos para visualizar o embedding\n",
    "\n",
    "O snippet abaixo gera dois arquivos que podem ser visualizados se upados em https://projector.tensorflow.org\n",
    "\n",
    "*TODO*: implementar `projector` de `tensorboard.plugins`"
   ]
  },
  {
   "cell_type": "code",
   "execution_count": 12,
   "metadata": {},
   "outputs": [],
   "source": [
    "e = model.layers[0]\n",
    "weights = e.get_weights()[0]\n",
    "\n",
    "import io\n",
    "\n",
    "out_v = io.open('vecs.tsv', 'w', encoding='utf-8')\n",
    "out_m = io.open('meta.tsv', 'w', encoding='utf-8')\n",
    "\n",
    "for word_num in range(1, weights.shape[0]):\n",
    "    word = reverse_word_index[word_num]\n",
    "    embeddings = weights[word_num]\n",
    "    out_m.write(word + \"\\n\")\n",
    "    out_v.write('\\t'.join([str(x) for x in embeddings]) + \"\\n\")\n",
    "    \n",
    "out_v.close()\n",
    "out_m.close()"
   ]
  }
 ],
 "metadata": {
  "kernelspec": {
   "display_name": "Python 3",
   "language": "python",
   "name": "python3"
  },
  "language_info": {
   "codemirror_mode": {
    "name": "ipython",
    "version": 3
   },
   "file_extension": ".py",
   "mimetype": "text/x-python",
   "name": "python",
   "nbconvert_exporter": "python",
   "pygments_lexer": "ipython3",
   "version": "3.6.9"
  }
 },
 "nbformat": 4,
 "nbformat_minor": 4
}
