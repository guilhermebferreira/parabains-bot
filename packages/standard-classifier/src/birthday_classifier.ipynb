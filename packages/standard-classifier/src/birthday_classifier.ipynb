{
 "cells": [
  {
   "cell_type": "markdown",
   "metadata": {},
   "source": [
    "# Imports e variáveis globais"
   ]
  },
  {
   "cell_type": "code",
   "execution_count": 1,
   "metadata": {},
   "outputs": [],
   "source": [
    "%%capture\n",
    "!pip install pandas\n",
    "!pip install sklearn\n",
    "import pandas as pd\n",
    "from sklearn.model_selection import train_test_split\n",
    "import matplotlib.pyplot as plt"
   ]
  },
  {
   "cell_type": "code",
   "execution_count": 2,
   "metadata": {},
   "outputs": [
    {
     "name": "stdout",
     "output_type": "stream",
     "text": [
      "Tensorflow version 2.1.0\n"
     ]
    }
   ],
   "source": [
    "import tensorflow as tf\n",
    "from tensorflow.keras.preprocessing.text import Tokenizer\n",
    "from tensorflow.keras.preprocessing.sequence import pad_sequences\n",
    "\n",
    "print('Tensorflow version {}'.format(tf.__version__))"
   ]
  },
  {
   "cell_type": "markdown",
   "metadata": {},
   "source": [
    "Algumas variáveis globais para auxiliar no fine-tunning sem ter que procurá-las pelo código."
   ]
  },
  {
   "cell_type": "code",
   "execution_count": 3,
   "metadata": {},
   "outputs": [],
   "source": [
    "vocab_size = 50\n",
    "oov_token = '<OOV>'\n",
    "padding_type = 'post'\n",
    "trunc_type = 'post'\n",
    "padding_max_len = 25\n",
    "embedding_dim = 8\n",
    "num_epochs = 50"
   ]
  },
  {
   "cell_type": "markdown",
   "metadata": {},
   "source": [
    "# Manipulação dos dados"
   ]
  },
  {
   "cell_type": "code",
   "execution_count": 4,
   "metadata": {},
   "outputs": [
    {
     "data": {
      "text/html": [
       "<div>\n",
       "<style scoped>\n",
       "    .dataframe tbody tr th:only-of-type {\n",
       "        vertical-align: middle;\n",
       "    }\n",
       "\n",
       "    .dataframe tbody tr th {\n",
       "        vertical-align: top;\n",
       "    }\n",
       "\n",
       "    .dataframe thead th {\n",
       "        text-align: right;\n",
       "    }\n",
       "</style>\n",
       "<table border=\"1\" class=\"dataframe\">\n",
       "  <thead>\n",
       "    <tr style=\"text-align: right;\">\n",
       "      <th></th>\n",
       "      <th>url</th>\n",
       "      <th>text</th>\n",
       "      <th>is_birthday</th>\n",
       "    </tr>\n",
       "  </thead>\n",
       "  <tbody>\n",
       "    <tr>\n",
       "      <th>0</th>\n",
       "      <td>https://twitter.com/mauriciolopesx/status/1247...</td>\n",
       "      <td>meu aniversário hoje e...   o que eu esperava:...</td>\n",
       "      <td>1</td>\n",
       "    </tr>\n",
       "    <tr>\n",
       "      <th>1</th>\n",
       "      <td>https://twitter.com/catherinealvs3/status/1247...</td>\n",
       "      <td>hoje é meu aniversário e eu passei basicamente...</td>\n",
       "      <td>1</td>\n",
       "    </tr>\n",
       "    <tr>\n",
       "      <th>2</th>\n",
       "      <td>https://twitter.com/Pao_de_batata20/status/124...</td>\n",
       "      <td>@BabuSantana ADM manda um salve, hoje é meu an...</td>\n",
       "      <td>1</td>\n",
       "    </tr>\n",
       "    <tr>\n",
       "      <th>3</th>\n",
       "      <td>https://twitter.com/Pao_de_batata20/status/124...</td>\n",
       "      <td>@anapaularenault @anapaularenault hoje é meu a...</td>\n",
       "      <td>1</td>\n",
       "    </tr>\n",
       "    <tr>\n",
       "      <th>4</th>\n",
       "      <td>https://twitter.com/felipealbano_/status/12479...</td>\n",
       "      <td>@giucatao hoje é meu aniversário mas quem tá d...</td>\n",
       "      <td>1</td>\n",
       "    </tr>\n",
       "  </tbody>\n",
       "</table>\n",
       "</div>"
      ],
      "text/plain": [
       "                                                 url  \\\n",
       "0  https://twitter.com/mauriciolopesx/status/1247...   \n",
       "1  https://twitter.com/catherinealvs3/status/1247...   \n",
       "2  https://twitter.com/Pao_de_batata20/status/124...   \n",
       "3  https://twitter.com/Pao_de_batata20/status/124...   \n",
       "4  https://twitter.com/felipealbano_/status/12479...   \n",
       "\n",
       "                                                text  is_birthday  \n",
       "0  meu aniversário hoje e...   o que eu esperava:...            1  \n",
       "1  hoje é meu aniversário e eu passei basicamente...            1  \n",
       "2  @BabuSantana ADM manda um salve, hoje é meu an...            1  \n",
       "3  @anapaularenault @anapaularenault hoje é meu a...            1  \n",
       "4  @giucatao hoje é meu aniversário mas quem tá d...            1  "
      ]
     },
     "execution_count": 4,
     "metadata": {},
     "output_type": "execute_result"
    }
   ],
   "source": [
    "data = pd.read_csv('data.csv', sep=';')\n",
    "data.head()"
   ]
  },
  {
   "cell_type": "code",
   "execution_count": 5,
   "metadata": {},
   "outputs": [],
   "source": [
    "sentences = data['text']\n",
    "urls = data['url']\n",
    "is_birthday = data['is_birthday']"
   ]
  },
  {
   "cell_type": "code",
   "execution_count": 6,
   "metadata": {},
   "outputs": [
    {
     "name": "stdout",
     "output_type": "stream",
     "text": [
      "Train set tem 372 linhas.\n",
      "Test set tem 124 linhas.\n"
     ]
    }
   ],
   "source": [
    "X_train, X_test, y_train, y_test = train_test_split(\n",
    "    sentences, \n",
    "    is_birthday, \n",
    "    shuffle=True, \n",
    "    random_state=42,\n",
    "    stratify=is_birthday\n",
    ")\n",
    "\n",
    "print(\"Train set tem {} linhas.\\nTest set tem {} linhas.\".format(X_train.shape[0], X_test.shape[0]))"
   ]
  },
  {
   "cell_type": "markdown",
   "metadata": {},
   "source": [
    "# Word embeddings"
   ]
  },
  {
   "cell_type": "code",
   "execution_count": 7,
   "metadata": {},
   "outputs": [],
   "source": [
    "tokenizer = Tokenizer(num_words=vocab_size, oov_token=oov_token)\n",
    "tokenizer.fit_on_texts(X_train)\n",
    "word_index = tokenizer.word_index\n",
    "reverse_word_index = dict([(value, key) for (key, value) in word_index.items()])"
   ]
  },
  {
   "cell_type": "code",
   "execution_count": 8,
   "metadata": {},
   "outputs": [],
   "source": [
    "# Train sequences\n",
    "sequences = tokenizer.texts_to_sequences(X_train)\n",
    "padded = pad_sequences(sequences, padding=padding_type, truncating=trunc_type, maxlen=padding_max_len)\n",
    "\n",
    "# Test sequences\n",
    "testing_sequences = tokenizer.texts_to_sequences(X_test)\n",
    "testing_padded = pad_sequences(testing_sequences, padding=padding_type, truncating=trunc_type, maxlen=padding_max_len)"
   ]
  },
  {
   "cell_type": "code",
   "execution_count": 9,
   "metadata": {},
   "outputs": [
    {
     "name": "stdout",
     "output_type": "stream",
     "text": [
      "Model: \"sequential\"\n",
      "_________________________________________________________________\n",
      "Layer (type)                 Output Shape              Param #   \n",
      "=================================================================\n",
      "embedding (Embedding)        (None, 25, 8)             400       \n",
      "_________________________________________________________________\n",
      "flatten (Flatten)            (None, 200)               0         \n",
      "_________________________________________________________________\n",
      "dense (Dense)                (None, 24)                4824      \n",
      "_________________________________________________________________\n",
      "dense_1 (Dense)              (None, 1)                 25        \n",
      "=================================================================\n",
      "Total params: 5,249\n",
      "Trainable params: 5,249\n",
      "Non-trainable params: 0\n",
      "_________________________________________________________________\n"
     ]
    }
   ],
   "source": [
    "model = tf.keras.Sequential([\n",
    "    tf.keras.layers.Embedding(vocab_size, embedding_dim, input_length=padding_max_len),\n",
    "#     If the data is big enough, uncomment the LSTM steps below and remove the Flatten step\n",
    "#     tf.keras.layers.Bidirectional(tf.keras.layers.LSTM(128, return_sequences=True)),\n",
    "#     tf.keras.layers.Bidirectional(tf.keras.layers.LSTM(64)),\n",
    "    tf.keras.layers.Flatten(),\n",
    "    tf.keras.layers.Dense(24, activation='relu'),\n",
    "    tf.keras.layers.Dense(1, activation='sigmoid')\n",
    "])\n",
    "model.compile(loss='binary_crossentropy',optimizer='adam',metrics=['accuracy'])\n",
    "model.summary()"
   ]
  },
  {
   "cell_type": "code",
   "execution_count": 10,
   "metadata": {},
   "outputs": [
    {
     "name": "stdout",
     "output_type": "stream",
     "text": [
      "Train on 372 samples, validate on 124 samples\n",
      "Epoch 1/50\n",
      "372/372 [==============================] - 1s 2ms/sample - loss: 0.6670 - accuracy: 0.7554 - val_loss: 0.6361 - val_accuracy: 0.8145\n",
      "Epoch 2/50\n",
      "372/372 [==============================] - 0s 273us/sample - loss: 0.5992 - accuracy: 0.8145 - val_loss: 0.5578 - val_accuracy: 0.8145\n",
      "Epoch 3/50\n",
      "372/372 [==============================] - 0s 289us/sample - loss: 0.5109 - accuracy: 0.8145 - val_loss: 0.4741 - val_accuracy: 0.8145\n",
      "Epoch 4/50\n",
      "372/372 [==============================] - 0s 126us/sample - loss: 0.4386 - accuracy: 0.8145 - val_loss: 0.4352 - val_accuracy: 0.8145\n",
      "Epoch 5/50\n",
      "372/372 [==============================] - 0s 142us/sample - loss: 0.4003 - accuracy: 0.8145 - val_loss: 0.4224 - val_accuracy: 0.8145\n",
      "Epoch 6/50\n",
      "372/372 [==============================] - 0s 170us/sample - loss: 0.3778 - accuracy: 0.8145 - val_loss: 0.4152 - val_accuracy: 0.8065\n",
      "Epoch 7/50\n",
      "372/372 [==============================] - 0s 123us/sample - loss: 0.3601 - accuracy: 0.8360 - val_loss: 0.4059 - val_accuracy: 0.8065\n",
      "Epoch 8/50\n",
      "372/372 [==============================] - 0s 127us/sample - loss: 0.3433 - accuracy: 0.8414 - val_loss: 0.3987 - val_accuracy: 0.8145\n",
      "Epoch 9/50\n",
      "372/372 [==============================] - 0s 156us/sample - loss: 0.3262 - accuracy: 0.8522 - val_loss: 0.3930 - val_accuracy: 0.8145\n",
      "Epoch 10/50\n",
      "372/372 [==============================] - 0s 134us/sample - loss: 0.3090 - accuracy: 0.8602 - val_loss: 0.3847 - val_accuracy: 0.8306\n",
      "Epoch 11/50\n",
      "372/372 [==============================] - 0s 149us/sample - loss: 0.2925 - accuracy: 0.8683 - val_loss: 0.3784 - val_accuracy: 0.8145\n",
      "Epoch 12/50\n",
      "372/372 [==============================] - 0s 150us/sample - loss: 0.2764 - accuracy: 0.8737 - val_loss: 0.3772 - val_accuracy: 0.8226\n",
      "Epoch 13/50\n",
      "372/372 [==============================] - 0s 144us/sample - loss: 0.2608 - accuracy: 0.8871 - val_loss: 0.3738 - val_accuracy: 0.8145\n",
      "Epoch 14/50\n",
      "372/372 [==============================] - 0s 130us/sample - loss: 0.2452 - accuracy: 0.8871 - val_loss: 0.3739 - val_accuracy: 0.8226\n",
      "Epoch 15/50\n",
      "372/372 [==============================] - 0s 154us/sample - loss: 0.2309 - accuracy: 0.8978 - val_loss: 0.3727 - val_accuracy: 0.8226\n",
      "Epoch 16/50\n",
      "372/372 [==============================] - 0s 172us/sample - loss: 0.2172 - accuracy: 0.9005 - val_loss: 0.3717 - val_accuracy: 0.8226\n",
      "Epoch 17/50\n",
      "372/372 [==============================] - 0s 338us/sample - loss: 0.2031 - accuracy: 0.9059 - val_loss: 0.3730 - val_accuracy: 0.8306\n",
      "Epoch 18/50\n",
      "372/372 [==============================] - 0s 185us/sample - loss: 0.1913 - accuracy: 0.9194 - val_loss: 0.3749 - val_accuracy: 0.8306\n",
      "Epoch 19/50\n",
      "372/372 [==============================] - 0s 187us/sample - loss: 0.1805 - accuracy: 0.9301 - val_loss: 0.3722 - val_accuracy: 0.8306\n",
      "Epoch 20/50\n",
      "372/372 [==============================] - 0s 147us/sample - loss: 0.1699 - accuracy: 0.9328 - val_loss: 0.3751 - val_accuracy: 0.8387\n",
      "Epoch 21/50\n",
      "372/372 [==============================] - 0s 138us/sample - loss: 0.1601 - accuracy: 0.9409 - val_loss: 0.3743 - val_accuracy: 0.8468\n",
      "Epoch 22/50\n",
      "372/372 [==============================] - 0s 121us/sample - loss: 0.1514 - accuracy: 0.9516 - val_loss: 0.3835 - val_accuracy: 0.8468\n",
      "Epoch 23/50\n",
      "372/372 [==============================] - 0s 131us/sample - loss: 0.1434 - accuracy: 0.9516 - val_loss: 0.3874 - val_accuracy: 0.8468\n",
      "Epoch 24/50\n",
      "372/372 [==============================] - 0s 153us/sample - loss: 0.1359 - accuracy: 0.9516 - val_loss: 0.3885 - val_accuracy: 0.8468\n",
      "Epoch 25/50\n",
      "372/372 [==============================] - 0s 151us/sample - loss: 0.1289 - accuracy: 0.9624 - val_loss: 0.3907 - val_accuracy: 0.8468\n",
      "Epoch 26/50\n",
      "372/372 [==============================] - 0s 124us/sample - loss: 0.1230 - accuracy: 0.9651 - val_loss: 0.3948 - val_accuracy: 0.8468\n",
      "Epoch 27/50\n",
      "372/372 [==============================] - 0s 107us/sample - loss: 0.1166 - accuracy: 0.9651 - val_loss: 0.4024 - val_accuracy: 0.8468\n",
      "Epoch 28/50\n",
      "372/372 [==============================] - 0s 130us/sample - loss: 0.1110 - accuracy: 0.9624 - val_loss: 0.4127 - val_accuracy: 0.8548\n",
      "Epoch 29/50\n",
      "372/372 [==============================] - 0s 141us/sample - loss: 0.1055 - accuracy: 0.9651 - val_loss: 0.4133 - val_accuracy: 0.8548\n",
      "Epoch 30/50\n",
      "372/372 [==============================] - 0s 165us/sample - loss: 0.1012 - accuracy: 0.9731 - val_loss: 0.4106 - val_accuracy: 0.8548\n",
      "Epoch 31/50\n",
      "372/372 [==============================] - 0s 180us/sample - loss: 0.0961 - accuracy: 0.9704 - val_loss: 0.4264 - val_accuracy: 0.8548\n",
      "Epoch 32/50\n",
      "372/372 [==============================] - 0s 232us/sample - loss: 0.0899 - accuracy: 0.9731 - val_loss: 0.4288 - val_accuracy: 0.8548\n",
      "Epoch 33/50\n",
      "372/372 [==============================] - 0s 990us/sample - loss: 0.0856 - accuracy: 0.9731 - val_loss: 0.4310 - val_accuracy: 0.8710\n",
      "Epoch 34/50\n",
      "372/372 [==============================] - 0s 371us/sample - loss: 0.0813 - accuracy: 0.9758 - val_loss: 0.4449 - val_accuracy: 0.8548\n",
      "Epoch 35/50\n",
      "372/372 [==============================] - 0s 1ms/sample - loss: 0.0775 - accuracy: 0.9758 - val_loss: 0.4550 - val_accuracy: 0.8629\n",
      "Epoch 36/50\n",
      "372/372 [==============================] - 0s 514us/sample - loss: 0.0741 - accuracy: 0.9785 - val_loss: 0.4475 - val_accuracy: 0.8710\n",
      "Epoch 37/50\n",
      "372/372 [==============================] - 0s 613us/sample - loss: 0.0690 - accuracy: 0.9785 - val_loss: 0.4607 - val_accuracy: 0.8790\n",
      "Epoch 38/50\n",
      "372/372 [==============================] - 0s 209us/sample - loss: 0.0662 - accuracy: 0.9812 - val_loss: 0.4731 - val_accuracy: 0.8790\n",
      "Epoch 39/50\n",
      "372/372 [==============================] - 0s 220us/sample - loss: 0.0617 - accuracy: 0.9839 - val_loss: 0.4718 - val_accuracy: 0.8710\n",
      "Epoch 40/50\n",
      "372/372 [==============================] - 0s 480us/sample - loss: 0.0591 - accuracy: 0.9839 - val_loss: 0.4884 - val_accuracy: 0.8710\n",
      "Epoch 41/50\n",
      "372/372 [==============================] - 0s 213us/sample - loss: 0.0552 - accuracy: 0.9839 - val_loss: 0.4922 - val_accuracy: 0.8710\n",
      "Epoch 42/50\n",
      "372/372 [==============================] - 0s 277us/sample - loss: 0.0523 - accuracy: 0.9839 - val_loss: 0.5015 - val_accuracy: 0.8710\n",
      "Epoch 43/50\n",
      "372/372 [==============================] - 0s 510us/sample - loss: 0.0496 - accuracy: 0.9866 - val_loss: 0.5130 - val_accuracy: 0.8710\n",
      "Epoch 44/50\n",
      "372/372 [==============================] - 0s 489us/sample - loss: 0.0473 - accuracy: 0.9892 - val_loss: 0.5186 - val_accuracy: 0.8710\n",
      "Epoch 45/50\n",
      "372/372 [==============================] - 0s 438us/sample - loss: 0.0448 - accuracy: 0.9892 - val_loss: 0.5289 - val_accuracy: 0.8710\n",
      "Epoch 46/50\n",
      "372/372 [==============================] - 0s 511us/sample - loss: 0.0426 - accuracy: 0.9892 - val_loss: 0.5379 - val_accuracy: 0.8710\n",
      "Epoch 47/50\n",
      "372/372 [==============================] - 0s 185us/sample - loss: 0.0405 - accuracy: 0.9892 - val_loss: 0.5521 - val_accuracy: 0.8710\n",
      "Epoch 48/50\n",
      "372/372 [==============================] - 0s 602us/sample - loss: 0.0384 - accuracy: 0.9919 - val_loss: 0.5518 - val_accuracy: 0.8710\n",
      "Epoch 49/50\n",
      "372/372 [==============================] - 0s 926us/sample - loss: 0.0367 - accuracy: 0.9919 - val_loss: 0.5661 - val_accuracy: 0.8710\n",
      "Epoch 50/50\n",
      "372/372 [==============================] - 0s 1ms/sample - loss: 0.0345 - accuracy: 0.9919 - val_loss: 0.5652 - val_accuracy: 0.8710\n"
     ]
    }
   ],
   "source": [
    "history = model.fit(padded, y_train, epochs=num_epochs, validation_data=(testing_padded, y_test));"
   ]
  },
  {
   "cell_type": "code",
   "execution_count": 11,
   "metadata": {},
   "outputs": [
    {
     "data": {
      "image/png": "[encoded data removed]",
      "text/plain": [
       "<Figure size 432x288 with 1 Axes>"
      ]
     },
     "metadata": {
      "needs_background": "light"
     },
     "output_type": "display_data"
    },
    {
     "data": {
      "image/png": "[encoded data removed]",
      "text/plain": [
       "<Figure size 432x288 with 1 Axes>"
      ]
     },
     "metadata": {
      "needs_background": "light"
     },
     "output_type": "display_data"
    }
   ],
   "source": [
    "def plot_graphs(history, string):\n",
    "    plt.plot(history.history[string])\n",
    "    plt.plot(history.history['val_'+string])\n",
    "    plt.xlabel('Epochs')\n",
    "    plt.ylabel(string)\n",
    "    plt.legend([string, 'val_'+string])\n",
    "    plt.show()\n",
    "    \n",
    "plot_graphs(history, 'accuracy')\n",
    "plot_graphs(history, 'loss')"
   ]
  },
  {
   "cell_type": "markdown",
   "metadata": {},
   "source": [
    "### Gerando arquivos para visualizar o embedding\n",
    "\n",
    "O snippet abaixo gera dois arquivos que podem ser visualizados se upados em https://projector.tensorflow.org\n",
    "\n",
    "*TODO*: implementar `projector` de `tensorboard.plugins`"
   ]
  },
  {
   "cell_type": "code",
   "execution_count": 12,
   "metadata": {},
   "outputs": [],
   "source": [
    "e = model.layers[0]\n",
    "weights = e.get_weights()[0]\n",
    "\n",
    "import io\n",
    "\n",
    "out_v = io.open('vecs.tsv', 'w', encoding='utf-8')\n",
    "out_m = io.open('meta.tsv', 'w', encoding='utf-8')\n",
    "\n",
    "for word_num in range(1, weights.shape[0]):\n",
    "    word = reverse_word_index[word_num]\n",
    "    embeddings = weights[word_num]\n",
    "    out_m.write(word + \"\\n\")\n",
    "    out_v.write('\\t'.join([str(x) for x in embeddings]) + \"\\n\")\n",
    "    \n",
    "out_v.close()\n",
    "out_m.close()"
   ]
  },
  {
   "cell_type": "code",
   "execution_count": 17,
   "metadata": {},
   "outputs": [
    {
     "name": "stdout",
     "output_type": "stream",
     "text": [
      "[[0.08080463]\n",
      " [0.8723618 ]]\n"
     ]
    }
   ],
   "source": [
    "generate_embeddings = lambda predict_sequences: pad_sequences(\n",
    "    tokenizer.texts_to_sequences(predict_sequences), \n",
    "    padding=padding_type, \n",
    "    truncating=trunc_type, \n",
    "    maxlen=padding_max_len)\n",
    "\n",
    "prediction = model.predict(generate_embeddings(['Hoje é o aniversário do meu filho', 'oi gnt hj é meu niver']))\n",
    "\n",
    "print(prediction)"
   ]
  },
  {
   "cell_type": "code",
   "execution_count": null,
   "metadata": {},
   "outputs": [],
   "source": []
  }
 ],
 "metadata": {
  "kernelspec": {
   "display_name": "Python 3",
   "language": "python",
   "name": "python3"
  },
  "language_info": {
   "codemirror_mode": {
    "name": "ipython",
    "version": 3
   },
   "file_extension": ".py",
   "mimetype": "text/x-python",
   "name": "python",
   "nbconvert_exporter": "python",
   "pygments_lexer": "ipython3",
   "version": "3.6.9"
  }
 },
 "nbformat": 4,
 "nbformat_minor": 4
}
