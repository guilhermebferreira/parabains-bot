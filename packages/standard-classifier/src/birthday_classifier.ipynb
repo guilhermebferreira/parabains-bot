{
 "cells": [
  {
   "cell_type": "markdown",
   "metadata": {},
   "source": [
    "# Imports e variáveis globais"
   ]
  },
  {
   "cell_type": "code",
   "execution_count": 1,
   "metadata": {},
   "outputs": [],
   "source": [
    "%%capture\n",
    "!pip install pandas\n",
    "!pip install sklearn\n",
    "import pandas as pd\n",
    "from sklearn.model_selection import train_test_split\n",
    "import matplotlib.pyplot as plt"
   ]
  },
  {
   "cell_type": "code",
   "execution_count": 2,
   "metadata": {},
   "outputs": [
    {
     "name": "stdout",
     "output_type": "stream",
     "text": [
      "Tensorflow version 2.1.0\n"
     ]
    }
   ],
   "source": [
    "import tensorflow as tf\n",
    "from tensorflow.keras.preprocessing.text import Tokenizer\n",
    "from tensorflow.keras.preprocessing.sequence import pad_sequences\n",
    "\n",
    "print('Tensorflow version {}'.format(tf.__version__))"
   ]
  },
  {
   "cell_type": "markdown",
   "metadata": {},
   "source": [
    "Algumas variáveis globais para auxiliar no fine-tunning sem ter que procurá-las pelo código."
   ]
  },
  {
   "cell_type": "code",
   "execution_count": 3,
   "metadata": {},
   "outputs": [],
   "source": [
    "vocab_size = 50\n",
    "oov_token = '<OOV>'\n",
    "padding_type = 'post'\n",
    "trunc_type = 'post'\n",
    "padding_max_len = 25\n",
    "embedding_dim = 8\n",
    "num_epochs = 50"
   ]
  },
  {
   "cell_type": "markdown",
   "metadata": {},
   "source": [
    "# Manipulação dos dados"
   ]
  },
  {
   "cell_type": "code",
   "execution_count": 4,
   "metadata": {},
   "outputs": [
    {
     "data": {
      "text/html": [
       "<div>\n",
       "<style scoped>\n",
       "    .dataframe tbody tr th:only-of-type {\n",
       "        vertical-align: middle;\n",
       "    }\n",
       "\n",
       "    .dataframe tbody tr th {\n",
       "        vertical-align: top;\n",
       "    }\n",
       "\n",
       "    .dataframe thead th {\n",
       "        text-align: right;\n",
       "    }\n",
       "</style>\n",
       "<table border=\"1\" class=\"dataframe\">\n",
       "  <thead>\n",
       "    <tr style=\"text-align: right;\">\n",
       "      <th></th>\n",
       "      <th>url</th>\n",
       "      <th>text</th>\n",
       "      <th>is_birthday</th>\n",
       "    </tr>\n",
       "  </thead>\n",
       "  <tbody>\n",
       "    <tr>\n",
       "      <th>0</th>\n",
       "      <td>https://twitter.com/Vitoriaa_gabi/status/12484...</td>\n",
       "      <td>Minha madrinha antes de morrer me prometeu uma...</td>\n",
       "      <td>0</td>\n",
       "    </tr>\n",
       "    <tr>\n",
       "      <th>1</th>\n",
       "      <td>https://twitter.com/FranceResende/status/12484...</td>\n",
       "      <td>Descobri pq hoje é meu aniversário de twitter ...</td>\n",
       "      <td>1</td>\n",
       "    </tr>\n",
       "    <tr>\n",
       "      <th>2</th>\n",
       "      <td>https://twitter.com/Maira1440/status/124842419...</td>\n",
       "      <td>@DjPedroSampaio #LivePedroSampaio HOJE É MEU A...</td>\n",
       "      <td>1</td>\n",
       "    </tr>\n",
       "    <tr>\n",
       "      <th>3</th>\n",
       "      <td>https://twitter.com/milenasuisso/status/124842...</td>\n",
       "      <td>MEU ANIVERSÁRIO NÃO É HOJE PEDRO MAS QUERIA VC...</td>\n",
       "      <td>0</td>\n",
       "    </tr>\n",
       "    <tr>\n",
       "      <th>4</th>\n",
       "      <td>https://twitter.com/Littlenamjoonie/status/124...</td>\n",
       "      <td>@moonsjoon PARABÉNS PRA MINHA NAMJOONAAAAA, me...</td>\n",
       "      <td>0</td>\n",
       "    </tr>\n",
       "  </tbody>\n",
       "</table>\n",
       "</div>"
      ],
      "text/plain": [
       "                                                 url  \\\n",
       "0  https://twitter.com/Vitoriaa_gabi/status/12484...   \n",
       "1  https://twitter.com/FranceResende/status/12484...   \n",
       "2  https://twitter.com/Maira1440/status/124842419...   \n",
       "3  https://twitter.com/milenasuisso/status/124842...   \n",
       "4  https://twitter.com/Littlenamjoonie/status/124...   \n",
       "\n",
       "                                                text  is_birthday  \n",
       "0  Minha madrinha antes de morrer me prometeu uma...            0  \n",
       "1  Descobri pq hoje é meu aniversário de twitter ...            1  \n",
       "2  @DjPedroSampaio #LivePedroSampaio HOJE É MEU A...            1  \n",
       "3  MEU ANIVERSÁRIO NÃO É HOJE PEDRO MAS QUERIA VC...            0  \n",
       "4  @moonsjoon PARABÉNS PRA MINHA NAMJOONAAAAA, me...            0  "
      ]
     },
     "execution_count": 4,
     "metadata": {},
     "output_type": "execute_result"
    }
   ],
   "source": [
    "data = pd.read_csv('data.csv', sep=';')\n",
    "data.head()"
   ]
  },
  {
   "cell_type": "code",
   "execution_count": 5,
   "metadata": {},
   "outputs": [],
   "source": [
    "sentences = data['text']\n",
    "urls = data['url']\n",
    "is_birthday = data['is_birthday']"
   ]
  },
  {
   "cell_type": "code",
   "execution_count": 6,
   "metadata": {},
   "outputs": [
    {
     "name": "stdout",
     "output_type": "stream",
     "text": [
      "Train set tem 445 linhas.\n",
      "Test set tem 149 linhas.\n"
     ]
    }
   ],
   "source": [
    "X_train, X_test, y_train, y_test = train_test_split(\n",
    "    sentences, \n",
    "    is_birthday, \n",
    "    shuffle=True, \n",
    "    random_state=42,\n",
    "    stratify=is_birthday\n",
    ")\n",
    "\n",
    "print(\"Train set tem {} linhas.\\nTest set tem {} linhas.\".format(X_train.shape[0], X_test.shape[0]))"
   ]
  },
  {
   "cell_type": "markdown",
   "metadata": {},
   "source": [
    "# Word embeddings"
   ]
  },
  {
   "cell_type": "code",
   "execution_count": 7,
   "metadata": {},
   "outputs": [],
   "source": [
    "tokenizer = Tokenizer(num_words=vocab_size, oov_token=oov_token)\n",
    "tokenizer.fit_on_texts(X_train)\n",
    "word_index = tokenizer.word_index\n",
    "reverse_word_index = dict([(value, key) for (key, value) in word_index.items()])"
   ]
  },
  {
   "cell_type": "code",
   "execution_count": 8,
   "metadata": {},
   "outputs": [],
   "source": [
    "# Train sequences\n",
    "sequences = tokenizer.texts_to_sequences(X_train)\n",
    "padded = pad_sequences(sequences, padding=padding_type, truncating=trunc_type, maxlen=padding_max_len)\n",
    "\n",
    "# Test sequences\n",
    "testing_sequences = tokenizer.texts_to_sequences(X_test)\n",
    "testing_padded = pad_sequences(testing_sequences, padding=padding_type, truncating=trunc_type, maxlen=padding_max_len)"
   ]
  },
  {
   "cell_type": "code",
   "execution_count": 9,
   "metadata": {},
   "outputs": [
    {
     "name": "stdout",
     "output_type": "stream",
     "text": [
      "Model: \"sequential\"\n",
      "_________________________________________________________________\n",
      "Layer (type)                 Output Shape              Param #   \n",
      "=================================================================\n",
      "embedding (Embedding)        (None, 25, 8)             400       \n",
      "_________________________________________________________________\n",
      "bidirectional (Bidirectional (None, 25, 256)           140288    \n",
      "_________________________________________________________________\n",
      "bidirectional_1 (Bidirection (None, 128)               164352    \n",
      "_________________________________________________________________\n",
      "dense (Dense)                (None, 24)                3096      \n",
      "_________________________________________________________________\n",
      "dense_1 (Dense)              (None, 1)                 25        \n",
      "=================================================================\n",
      "Total params: 308,161\n",
      "Trainable params: 308,161\n",
      "Non-trainable params: 0\n",
      "_________________________________________________________________\n"
     ]
    }
   ],
   "source": [
    "model = tf.keras.Sequential([\n",
    "    tf.keras.layers.Embedding(vocab_size, embedding_dim, input_length=padding_max_len),\n",
    "#     If the data is big enough, uncomment the LSTM steps below and remove the Flatten step\n",
    "    tf.keras.layers.Bidirectional(tf.keras.layers.LSTM(128, return_sequences=True)),\n",
    "    tf.keras.layers.Bidirectional(tf.keras.layers.LSTM(64)),\n",
    "#     tf.keras.layers.Flatten(),\n",
    "    tf.keras.layers.Dense(24, activation='relu'),\n",
    "    tf.keras.layers.Dense(1, activation='sigmoid')\n",
    "])\n",
    "model.compile(loss='binary_crossentropy',optimizer='adam',metrics=['accuracy'])\n",
    "model.summary()"
   ]
  },
  {
   "cell_type": "code",
   "execution_count": 10,
   "metadata": {},
   "outputs": [
    {
     "name": "stdout",
     "output_type": "stream",
     "text": [
      "Train on 445 samples, validate on 149 samples\n",
      "Epoch 1/50\n",
      "445/445 [==============================] - 12s 26ms/sample - loss: 0.5938 - accuracy: 0.7955 - val_loss: 0.4896 - val_accuracy: 0.7919\n",
      "Epoch 2/50\n",
      "445/445 [==============================] - 2s 4ms/sample - loss: 0.4858 - accuracy: 0.7955 - val_loss: 0.4648 - val_accuracy: 0.7919\n",
      "Epoch 3/50\n",
      "445/445 [==============================] - 2s 4ms/sample - loss: 0.4264 - accuracy: 0.7843 - val_loss: 0.4438 - val_accuracy: 0.7450\n",
      "Epoch 4/50\n",
      "445/445 [==============================] - 2s 4ms/sample - loss: 0.4059 - accuracy: 0.8202 - val_loss: 0.4485 - val_accuracy: 0.7919\n",
      "Epoch 5/50\n",
      "445/445 [==============================] - 2s 5ms/sample - loss: 0.3943 - accuracy: 0.8225 - val_loss: 0.4365 - val_accuracy: 0.7785\n",
      "Epoch 6/50\n",
      "445/445 [==============================] - 2s 5ms/sample - loss: 0.3706 - accuracy: 0.8315 - val_loss: 0.4177 - val_accuracy: 0.7450\n",
      "Epoch 7/50\n",
      "445/445 [==============================] - 2s 5ms/sample - loss: 0.3733 - accuracy: 0.8202 - val_loss: 0.4024 - val_accuracy: 0.7450\n",
      "Epoch 8/50\n",
      "445/445 [==============================] - 2s 4ms/sample - loss: 0.3161 - accuracy: 0.8494 - val_loss: 0.3663 - val_accuracy: 0.8054\n",
      "Epoch 9/50\n",
      "445/445 [==============================] - 2s 5ms/sample - loss: 0.2857 - accuracy: 0.8764 - val_loss: 0.3615 - val_accuracy: 0.8389\n",
      "Epoch 10/50\n",
      "445/445 [==============================] - 2s 4ms/sample - loss: 0.2543 - accuracy: 0.8876 - val_loss: 0.3914 - val_accuracy: 0.8523\n",
      "Epoch 11/50\n",
      "445/445 [==============================] - 2s 4ms/sample - loss: 0.2628 - accuracy: 0.8899 - val_loss: 0.4251 - val_accuracy: 0.8188\n",
      "Epoch 12/50\n",
      "445/445 [==============================] - 2s 5ms/sample - loss: 0.2514 - accuracy: 0.8876 - val_loss: 0.3915 - val_accuracy: 0.8255\n",
      "Epoch 13/50\n",
      "445/445 [==============================] - 2s 4ms/sample - loss: 0.2326 - accuracy: 0.9011 - val_loss: 0.4157 - val_accuracy: 0.8389\n",
      "Epoch 14/50\n",
      "445/445 [==============================] - 2s 4ms/sample - loss: 0.2255 - accuracy: 0.9034 - val_loss: 0.3996 - val_accuracy: 0.8322\n",
      "Epoch 15/50\n",
      "445/445 [==============================] - 2s 4ms/sample - loss: 0.2207 - accuracy: 0.8966 - val_loss: 0.3776 - val_accuracy: 0.8456\n",
      "Epoch 16/50\n",
      "445/445 [==============================] - 2s 4ms/sample - loss: 0.2159 - accuracy: 0.8921 - val_loss: 0.4514 - val_accuracy: 0.8456\n",
      "Epoch 17/50\n",
      "445/445 [==============================] - 2s 4ms/sample - loss: 0.1943 - accuracy: 0.9124 - val_loss: 0.4368 - val_accuracy: 0.8389\n",
      "Epoch 18/50\n",
      "445/445 [==============================] - 2s 4ms/sample - loss: 0.1935 - accuracy: 0.9124 - val_loss: 0.4650 - val_accuracy: 0.8322\n",
      "Epoch 19/50\n",
      "445/445 [==============================] - 2s 4ms/sample - loss: 0.1919 - accuracy: 0.9056 - val_loss: 0.5016 - val_accuracy: 0.8322\n",
      "Epoch 20/50\n",
      "445/445 [==============================] - 2s 4ms/sample - loss: 0.1884 - accuracy: 0.9079 - val_loss: 0.5255 - val_accuracy: 0.8389\n",
      "Epoch 21/50\n",
      "445/445 [==============================] - 2s 4ms/sample - loss: 0.1965 - accuracy: 0.9169 - val_loss: 0.4089 - val_accuracy: 0.8322\n",
      "Epoch 22/50\n",
      "445/445 [==============================] - 2s 5ms/sample - loss: 0.2028 - accuracy: 0.9146 - val_loss: 0.4952 - val_accuracy: 0.8322\n",
      "Epoch 23/50\n",
      "445/445 [==============================] - 2s 4ms/sample - loss: 0.1873 - accuracy: 0.9191 - val_loss: 0.4587 - val_accuracy: 0.8255\n",
      "Epoch 24/50\n",
      "445/445 [==============================] - 2s 5ms/sample - loss: 0.1734 - accuracy: 0.9124 - val_loss: 0.7011 - val_accuracy: 0.8188\n",
      "Epoch 25/50\n",
      "445/445 [==============================] - 2s 5ms/sample - loss: 0.1884 - accuracy: 0.9034 - val_loss: 0.4408 - val_accuracy: 0.8255\n",
      "Epoch 26/50\n",
      "445/445 [==============================] - 3s 7ms/sample - loss: 0.1872 - accuracy: 0.9101 - val_loss: 0.6036 - val_accuracy: 0.8188\n",
      "Epoch 27/50\n",
      "445/445 [==============================] - 2s 5ms/sample - loss: 0.1763 - accuracy: 0.8989 - val_loss: 0.5932 - val_accuracy: 0.8255\n",
      "Epoch 28/50\n",
      "445/445 [==============================] - 2s 5ms/sample - loss: 0.1762 - accuracy: 0.9146 - val_loss: 0.5386 - val_accuracy: 0.8121\n",
      "Epoch 29/50\n",
      "445/445 [==============================] - 2s 4ms/sample - loss: 0.1729 - accuracy: 0.9236 - val_loss: 0.5857 - val_accuracy: 0.8121\n",
      "Epoch 30/50\n",
      "445/445 [==============================] - 8s 18ms/sample - loss: 0.1898 - accuracy: 0.9258 - val_loss: 0.4184 - val_accuracy: 0.8121\n",
      "Epoch 31/50\n",
      "445/445 [==============================] - 3s 8ms/sample - loss: 0.2154 - accuracy: 0.9258 - val_loss: 0.4967 - val_accuracy: 0.8255\n",
      "Epoch 32/50\n",
      "445/445 [==============================] - 3s 6ms/sample - loss: 0.1788 - accuracy: 0.9146 - val_loss: 0.6521 - val_accuracy: 0.8389\n",
      "Epoch 33/50\n",
      "445/445 [==============================] - 2s 5ms/sample - loss: 0.1802 - accuracy: 0.9169 - val_loss: 0.5432 - val_accuracy: 0.8322\n",
      "Epoch 34/50\n",
      "445/445 [==============================] - 2s 5ms/sample - loss: 0.1852 - accuracy: 0.9191 - val_loss: 0.6126 - val_accuracy: 0.8389\n",
      "Epoch 35/50\n",
      "445/445 [==============================] - 2s 4ms/sample - loss: 0.1995 - accuracy: 0.9079 - val_loss: 0.4749 - val_accuracy: 0.8322\n",
      "Epoch 36/50\n",
      "445/445 [==============================] - 2s 5ms/sample - loss: 0.1935 - accuracy: 0.9146 - val_loss: 0.7796 - val_accuracy: 0.8188\n",
      "Epoch 37/50\n",
      "445/445 [==============================] - 2s 5ms/sample - loss: 0.1640 - accuracy: 0.9258 - val_loss: 0.5370 - val_accuracy: 0.8255\n",
      "Epoch 38/50\n",
      "445/445 [==============================] - 2s 5ms/sample - loss: 0.1748 - accuracy: 0.9169 - val_loss: 0.5673 - val_accuracy: 0.8121\n",
      "Epoch 39/50\n",
      "445/445 [==============================] - 2s 4ms/sample - loss: 0.1659 - accuracy: 0.9034 - val_loss: 0.6188 - val_accuracy: 0.8322\n",
      "Epoch 40/50\n",
      "445/445 [==============================] - 2s 4ms/sample - loss: 0.1603 - accuracy: 0.9191 - val_loss: 0.7021 - val_accuracy: 0.8322\n",
      "Epoch 41/50\n",
      "445/445 [==============================] - 2s 5ms/sample - loss: 0.1497 - accuracy: 0.9326 - val_loss: 0.6434 - val_accuracy: 0.8322\n",
      "Epoch 42/50\n",
      "445/445 [==============================] - 2s 4ms/sample - loss: 0.1403 - accuracy: 0.9348 - val_loss: 0.6959 - val_accuracy: 0.7987\n",
      "Epoch 43/50\n",
      "445/445 [==============================] - 2s 4ms/sample - loss: 0.1536 - accuracy: 0.9326 - val_loss: 0.6635 - val_accuracy: 0.8121\n",
      "Epoch 44/50\n",
      "445/445 [==============================] - 2s 4ms/sample - loss: 0.1704 - accuracy: 0.9236 - val_loss: 0.4203 - val_accuracy: 0.8188\n",
      "Epoch 45/50\n",
      "445/445 [==============================] - 2s 4ms/sample - loss: 0.2154 - accuracy: 0.9079 - val_loss: 0.4431 - val_accuracy: 0.8188\n",
      "Epoch 46/50\n",
      "445/445 [==============================] - 2s 4ms/sample - loss: 0.1609 - accuracy: 0.9303 - val_loss: 0.7101 - val_accuracy: 0.8255\n",
      "Epoch 47/50\n",
      "445/445 [==============================] - 2s 4ms/sample - loss: 0.1640 - accuracy: 0.9236 - val_loss: 0.5746 - val_accuracy: 0.8322\n",
      "Epoch 48/50\n",
      "445/445 [==============================] - 2s 4ms/sample - loss: 0.1362 - accuracy: 0.9348 - val_loss: 0.6804 - val_accuracy: 0.8322\n",
      "Epoch 49/50\n",
      "445/445 [==============================] - 2s 5ms/sample - loss: 0.1475 - accuracy: 0.9371 - val_loss: 0.6597 - val_accuracy: 0.8188\n",
      "Epoch 50/50\n",
      "445/445 [==============================] - 2s 5ms/sample - loss: 0.1313 - accuracy: 0.9416 - val_loss: 0.7033 - val_accuracy: 0.8121\n"
     ]
    }
   ],
   "source": [
    "history = model.fit(padded, y_train, epochs=num_epochs, validation_data=(testing_padded, y_test));"
   ]
  },
  {
   "cell_type": "code",
   "execution_count": 11,
   "metadata": {},
   "outputs": [
    {
     "data": {
      "image/png": "[encoded data removed]",
      "text/plain": [
       "<Figure size 432x288 with 1 Axes>"
      ]
     },
     "metadata": {
      "needs_background": "light"
     },
     "output_type": "display_data"
    },
    {
     "data": {
      "image/png": "[encoded data removed]",
      "text/plain": [
       "<Figure size 432x288 with 1 Axes>"
      ]
     },
     "metadata": {
      "needs_background": "light"
     },
     "output_type": "display_data"
    }
   ],
   "source": [
    "def plot_graphs(history, string):\n",
    "    plt.plot(history.history[string])\n",
    "    plt.plot(history.history['val_'+string])\n",
    "    plt.xlabel('Epochs')\n",
    "    plt.ylabel(string)\n",
    "    plt.legend([string, 'val_'+string])\n",
    "    plt.show()\n",
    "    \n",
    "plot_graphs(history, 'accuracy')\n",
    "plot_graphs(history, 'loss')"
   ]
  },
  {
   "cell_type": "markdown",
   "metadata": {},
   "source": [
    "### Gerando arquivos para visualizar o embedding\n",
    "\n",
    "O snippet abaixo gera dois arquivos que podem ser visualizados se upados em https://projector.tensorflow.org\n",
    "\n",
    "*TODO*: implementar `projector` de `tensorboard.plugins`"
   ]
  },
  {
   "cell_type": "code",
   "execution_count": 12,
   "metadata": {},
   "outputs": [],
   "source": [
    "e = model.layers[0]\n",
    "weights = e.get_weights()[0]\n",
    "\n",
    "import io\n",
    "\n",
    "out_v = io.open('vecs.tsv', 'w', encoding='utf-8')\n",
    "out_m = io.open('meta.tsv', 'w', encoding='utf-8')\n",
    "\n",
    "for word_num in range(1, weights.shape[0]):\n",
    "    word = reverse_word_index[word_num]\n",
    "    embeddings = weights[word_num]\n",
    "    out_m.write(word + \"\\n\")\n",
    "    out_v.write('\\t'.join([str(x) for x in embeddings]) + \"\\n\")\n",
    "    \n",
    "out_v.close()\n",
    "out_m.close()"
   ]
  },
  {
   "cell_type": "code",
   "execution_count": 13,
   "metadata": {},
   "outputs": [
    {
     "name": "stdout",
     "output_type": "stream",
     "text": [
      "[[4.9328065e-04]\n",
      " [5.9200281e-01]\n",
      " [8.1931300e-02]]\n"
     ]
    }
   ],
   "source": [
    "generate_embeddings = lambda predict_sequences: pad_sequences(\n",
    "    tokenizer.texts_to_sequences(predict_sequences), \n",
    "    padding=padding_type, \n",
    "    truncating=trunc_type, \n",
    "    maxlen=padding_max_len)\n",
    "\n",
    "predict_on = generate_embeddings([\n",
    "    'Hoje é o aniversário do meu filho', \n",
    "    'oi gnt hj é meu niver', \n",
    "    'oi gnt hj não é meu niver'])\n",
    "\n",
    "prediction = model.predict(predict_on)\n",
    "\n",
    "print(prediction)"
   ]
  },
  {
   "cell_type": "markdown",
   "metadata": {},
   "source": [
    "### Exportando para tensorflow.js"
   ]
  },
  {
   "cell_type": "code",
   "execution_count": 14,
   "metadata": {},
   "outputs": [],
   "source": [
    "%%capture\n",
    "!pip install tensorflowjs\n",
    "import json\n",
    "import tensorflowjs as tfjs"
   ]
  },
  {
   "cell_type": "code",
   "execution_count": 15,
   "metadata": {},
   "outputs": [],
   "source": [
    "def export_model(m, words_vocab):\n",
    "    tfjs.converters.save_keras_model(m, './__generated__')\n",
    "\n",
    "    with open(\"./__generated__/config.ts\", 'w') as f:\n",
    "        f.write('export const vocabulary_size = {};\\n\\n'.format(vocab_size))\n",
    "        f.write('export const oov_token = \"{}\";\\n\\n'.format(oov_token))\n",
    "        f.write('export const padding_type = \"{}\";\\n\\n'.format(padding_type))\n",
    "        f.write('export const trunc_type = \"{}\";\\n\\n'.format(trunc_type))\n",
    "        f.write('export const padding_max_len = {};\\n\\n'.format(padding_max_len))\n",
    "        f.write('export const vocabulary = {\\n')\n",
    "        for (index, l) in enumerate(json.dumps(words_vocab)[1:-1].split(\",\")):\n",
    "            if index < vocab_size:\n",
    "                f.write(\"  \"+l+',\\n')\n",
    "        f.write('};\\n')"
   ]
  },
  {
   "cell_type": "code",
   "execution_count": 16,
   "metadata": {},
   "outputs": [
    {
     "name": "stderr",
     "output_type": "stream",
     "text": [
      "/usr/local/lib/python3.6/dist-packages/tensorflowjs/converters/keras_h5_conversion.py:122: H5pyDeprecationWarning: The default file mode will change to 'r' (read-only) in h5py 3.0. To suppress this warning, pass the mode you need to h5py.File(), or set the global default h5.get_config().default_file_mode, or set the environment variable H5PY_DEFAULT_READONLY=1. Available modes are: 'r', 'r+', 'w', 'w-'/'x', 'a'. See the docs for details.\n",
      "  return h5py.File(h5file)\n"
     ]
    }
   ],
   "source": [
    "export_model(model, word_index)"
   ]
  }
 ],
 "metadata": {
  "kernelspec": {
   "display_name": "Python 3",
   "language": "python",
   "name": "python3"
  },
  "language_info": {
   "codemirror_mode": {
    "name": "ipython",
    "version": 3
   },
   "file_extension": ".py",
   "mimetype": "text/x-python",
   "name": "python",
   "nbconvert_exporter": "python",
   "pygments_lexer": "ipython3",
   "version": "3.6.9"
  }
 },
 "nbformat": 4,
 "nbformat_minor": 4
}
