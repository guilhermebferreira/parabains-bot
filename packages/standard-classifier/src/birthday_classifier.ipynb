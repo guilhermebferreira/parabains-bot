{
 "cells": [
  {
   "cell_type": "markdown",
   "metadata": {},
   "source": [
    "# Imports e variáveis globais"
   ]
  },
  {
   "cell_type": "code",
   "execution_count": 1,
   "metadata": {},
   "outputs": [],
   "source": [
    "%%capture\n",
    "!pip install pandas\n",
    "!pip install sklearn\n",
    "import pandas as pd\n",
    "from sklearn.model_selection import train_test_split\n",
    "import matplotlib.pyplot as plt"
   ]
  },
  {
   "cell_type": "code",
   "execution_count": 2,
   "metadata": {},
   "outputs": [
    {
     "name": "stdout",
     "output_type": "stream",
     "text": [
      "Tensorflow version 2.1.0\n"
     ]
    }
   ],
   "source": [
    "import tensorflow as tf\n",
    "from tensorflow.keras.preprocessing.text import Tokenizer\n",
    "from tensorflow.keras.preprocessing.sequence import pad_sequences\n",
    "\n",
    "print('Tensorflow version {}'.format(tf.__version__))"
   ]
  },
  {
   "cell_type": "markdown",
   "metadata": {},
   "source": [
    "Algumas variáveis globais para auxiliar no fine-tunning sem ter que procurá-las pelo código."
   ]
  },
  {
   "cell_type": "code",
   "execution_count": 3,
   "metadata": {},
   "outputs": [],
   "source": [
    "vocab_size = 100\n",
    "oov_token = '<OOV>'\n",
    "padding_type = 'post'\n",
    "trunc_type = 'post'\n",
    "padding_max_len = 25\n",
    "embedding_dim = 24\n",
    "num_epochs = 30"
   ]
  },
  {
   "cell_type": "markdown",
   "metadata": {},
   "source": [
    "# Manipulação dos dados"
   ]
  },
  {
   "cell_type": "code",
   "execution_count": 4,
   "metadata": {},
   "outputs": [
    {
     "data": {
      "text/html": [
       "<div>\n",
       "<style scoped>\n",
       "    .dataframe tbody tr th:only-of-type {\n",
       "        vertical-align: middle;\n",
       "    }\n",
       "\n",
       "    .dataframe tbody tr th {\n",
       "        vertical-align: top;\n",
       "    }\n",
       "\n",
       "    .dataframe thead th {\n",
       "        text-align: right;\n",
       "    }\n",
       "</style>\n",
       "<table border=\"1\" class=\"dataframe\">\n",
       "  <thead>\n",
       "    <tr style=\"text-align: right;\">\n",
       "      <th></th>\n",
       "      <th>url</th>\n",
       "      <th>text</th>\n",
       "      <th>is_birthday</th>\n",
       "    </tr>\n",
       "  </thead>\n",
       "  <tbody>\n",
       "    <tr>\n",
       "      <th>0</th>\n",
       "      <td>https://twitter.com/vinaMaria8/status/12491362...</td>\n",
       "      <td>@BiancaEstephan5 @MeLorrane @trouxa_71 Meu ani...</td>\n",
       "      <td>1</td>\n",
       "    </tr>\n",
       "    <tr>\n",
       "      <th>1</th>\n",
       "      <td>https://twitter.com/bia_livros_/status/1249136...</td>\n",
       "      <td>@gusttavo_lima me manda beijooo,hoje é meu ani...</td>\n",
       "      <td>1</td>\n",
       "    </tr>\n",
       "    <tr>\n",
       "      <th>2</th>\n",
       "      <td>https://twitter.com/Gih_Barbosa_/status/124913...</td>\n",
       "      <td>Hoje conversando sobre meu aniversário percebi...</td>\n",
       "      <td>0</td>\n",
       "    </tr>\n",
       "    <tr>\n",
       "      <th>3</th>\n",
       "      <td>https://twitter.com/agatha_cps/status/12491354...</td>\n",
       "      <td>@skol Meu aniversário é hoje, @skol! Só bebend...</td>\n",
       "      <td>1</td>\n",
       "    </tr>\n",
       "    <tr>\n",
       "      <th>4</th>\n",
       "      <td>https://twitter.com/093BWL/status/124913529102...</td>\n",
       "      <td>@lulu_Hirai O meu amoooor, hoje é teu aniversá...</td>\n",
       "      <td>0</td>\n",
       "    </tr>\n",
       "  </tbody>\n",
       "</table>\n",
       "</div>"
      ],
      "text/plain": [
       "                                                 url  \\\n",
       "0  https://twitter.com/vinaMaria8/status/12491362...   \n",
       "1  https://twitter.com/bia_livros_/status/1249136...   \n",
       "2  https://twitter.com/Gih_Barbosa_/status/124913...   \n",
       "3  https://twitter.com/agatha_cps/status/12491354...   \n",
       "4  https://twitter.com/093BWL/status/124913529102...   \n",
       "\n",
       "                                                text  is_birthday  \n",
       "0  @BiancaEstephan5 @MeLorrane @trouxa_71 Meu ani...            1  \n",
       "1  @gusttavo_lima me manda beijooo,hoje é meu ani...            1  \n",
       "2  Hoje conversando sobre meu aniversário percebi...            0  \n",
       "3  @skol Meu aniversário é hoje, @skol! Só bebend...            1  \n",
       "4  @lulu_Hirai O meu amoooor, hoje é teu aniversá...            0  "
      ]
     },
     "execution_count": 4,
     "metadata": {},
     "output_type": "execute_result"
    }
   ],
   "source": [
    "data = pd.read_csv('data.csv', sep=';')\n",
    "data.head()"
   ]
  },
  {
   "cell_type": "code",
   "execution_count": 5,
   "metadata": {},
   "outputs": [],
   "source": [
    "sentences = data['text']\n",
    "urls = data['url']\n",
    "is_birthday = data['is_birthday']"
   ]
  },
  {
   "cell_type": "code",
   "execution_count": 6,
   "metadata": {},
   "outputs": [
    {
     "name": "stdout",
     "output_type": "stream",
     "text": [
      "Train set tem 511 linhas.\n",
      "Test set tem 171 linhas.\n"
     ]
    }
   ],
   "source": [
    "X_train, X_test, y_train, y_test = train_test_split(\n",
    "    sentences, \n",
    "    is_birthday, \n",
    "    shuffle=True, \n",
    "    random_state=42,\n",
    "    stratify=is_birthday\n",
    ")\n",
    "\n",
    "print(\"Train set tem {} linhas.\\nTest set tem {} linhas.\".format(X_train.shape[0], X_test.shape[0]))"
   ]
  },
  {
   "cell_type": "markdown",
   "metadata": {},
   "source": [
    "# Word embeddings"
   ]
  },
  {
   "cell_type": "code",
   "execution_count": 7,
   "metadata": {},
   "outputs": [],
   "source": [
    "tokenizer = Tokenizer(num_words=vocab_size, oov_token=oov_token)\n",
    "tokenizer.fit_on_texts(X_train)\n",
    "word_index = tokenizer.word_index\n",
    "reverse_word_index = dict([(value, key) for (key, value) in word_index.items()])"
   ]
  },
  {
   "cell_type": "code",
   "execution_count": 8,
   "metadata": {},
   "outputs": [],
   "source": [
    "# Train sequences\n",
    "sequences = tokenizer.texts_to_sequences(X_train)\n",
    "padded = pad_sequences(sequences, padding=padding_type, truncating=trunc_type, maxlen=padding_max_len)\n",
    "\n",
    "# Test sequences\n",
    "testing_sequences = tokenizer.texts_to_sequences(X_test)\n",
    "testing_padded = pad_sequences(testing_sequences, padding=padding_type, truncating=trunc_type, maxlen=padding_max_len)"
   ]
  },
  {
   "cell_type": "code",
   "execution_count": 9,
   "metadata": {},
   "outputs": [
    {
     "name": "stdout",
     "output_type": "stream",
     "text": [
      "Model: \"sequential\"\n",
      "_________________________________________________________________\n",
      "Layer (type)                 Output Shape              Param #   \n",
      "=================================================================\n",
      "embedding (Embedding)        (None, 25, 24)            2400      \n",
      "_________________________________________________________________\n",
      "conv1d (Conv1D)              (None, 21, 128)           15488     \n",
      "_________________________________________________________________\n",
      "global_max_pooling1d (Global (None, 128)               0         \n",
      "_________________________________________________________________\n",
      "dense (Dense)                (None, 24)                3096      \n",
      "_________________________________________________________________\n",
      "dense_1 (Dense)              (None, 1)                 25        \n",
      "=================================================================\n",
      "Total params: 21,009\n",
      "Trainable params: 21,009\n",
      "Non-trainable params: 0\n",
      "_________________________________________________________________\n"
     ]
    }
   ],
   "source": [
    "model = tf.keras.Sequential([\n",
    "    tf.keras.layers.Embedding(vocab_size, embedding_dim, input_length=padding_max_len),\n",
    "#     CNN\n",
    "    tf.keras.layers.Conv1D(128, 5, activation='relu'),\n",
    "    tf.keras.layers.GlobalMaxPooling1D(),\n",
    "    tf.keras.layers.Dense(24, activation='relu'),\n",
    "    tf.keras.layers.Dense(1, activation='sigmoid')\n",
    "])\n",
    "model.compile(loss='binary_crossentropy',optimizer='adam',metrics=['accuracy'])\n",
    "model.summary()"
   ]
  },
  {
   "cell_type": "code",
   "execution_count": 10,
   "metadata": {},
   "outputs": [
    {
     "name": "stdout",
     "output_type": "stream",
     "text": [
      "Train on 511 samples, validate on 171 samples\n",
      "Epoch 1/30\n",
      "511/511 [==============================] - 1s 2ms/sample - loss: 0.6211 - accuracy: 0.7808 - val_loss: 0.5460 - val_accuracy: 0.7953\n",
      "Epoch 2/30\n",
      "511/511 [==============================] - 0s 254us/sample - loss: 0.4979 - accuracy: 0.7984 - val_loss: 0.4716 - val_accuracy: 0.7953\n",
      "Epoch 3/30\n",
      "511/511 [==============================] - 0s 288us/sample - loss: 0.4518 - accuracy: 0.7984 - val_loss: 0.4396 - val_accuracy: 0.7953\n",
      "Epoch 4/30\n",
      "511/511 [==============================] - 0s 497us/sample - loss: 0.3977 - accuracy: 0.7984 - val_loss: 0.3852 - val_accuracy: 0.7953\n",
      "Epoch 5/30\n",
      "511/511 [==============================] - 0s 348us/sample - loss: 0.3223 - accuracy: 0.8493 - val_loss: 0.3300 - val_accuracy: 0.8655\n",
      "Epoch 6/30\n",
      "511/511 [==============================] - 0s 257us/sample - loss: 0.2588 - accuracy: 0.9139 - val_loss: 0.2902 - val_accuracy: 0.8947\n",
      "Epoch 7/30\n",
      "511/511 [==============================] - 0s 281us/sample - loss: 0.2161 - accuracy: 0.9256 - val_loss: 0.2554 - val_accuracy: 0.9298\n",
      "Epoch 8/30\n",
      "511/511 [==============================] - 0s 310us/sample - loss: 0.1831 - accuracy: 0.9354 - val_loss: 0.2329 - val_accuracy: 0.9298\n",
      "Epoch 9/30\n",
      "511/511 [==============================] - 0s 447us/sample - loss: 0.1600 - accuracy: 0.9432 - val_loss: 0.2255 - val_accuracy: 0.9357\n",
      "Epoch 10/30\n",
      "511/511 [==============================] - 0s 492us/sample - loss: 0.1420 - accuracy: 0.9530 - val_loss: 0.2140 - val_accuracy: 0.9240\n",
      "Epoch 11/30\n",
      "511/511 [==============================] - 0s 436us/sample - loss: 0.1277 - accuracy: 0.9589 - val_loss: 0.2126 - val_accuracy: 0.9357\n",
      "Epoch 12/30\n",
      "511/511 [==============================] - 0s 390us/sample - loss: 0.1149 - accuracy: 0.9628 - val_loss: 0.2448 - val_accuracy: 0.9298\n",
      "Epoch 13/30\n",
      "511/511 [==============================] - 0s 258us/sample - loss: 0.1069 - accuracy: 0.9648 - val_loss: 0.2299 - val_accuracy: 0.9298\n",
      "Epoch 14/30\n",
      "511/511 [==============================] - 0s 313us/sample - loss: 0.0876 - accuracy: 0.9706 - val_loss: 0.2293 - val_accuracy: 0.9181\n",
      "Epoch 15/30\n",
      "511/511 [==============================] - 0s 256us/sample - loss: 0.0759 - accuracy: 0.9785 - val_loss: 0.2467 - val_accuracy: 0.9181\n",
      "Epoch 16/30\n",
      "511/511 [==============================] - 0s 250us/sample - loss: 0.0649 - accuracy: 0.9824 - val_loss: 0.2487 - val_accuracy: 0.9123\n",
      "Epoch 17/30\n",
      "511/511 [==============================] - 0s 259us/sample - loss: 0.0549 - accuracy: 0.9843 - val_loss: 0.2712 - val_accuracy: 0.9240\n",
      "Epoch 18/30\n",
      "511/511 [==============================] - 0s 379us/sample - loss: 0.0470 - accuracy: 0.9922 - val_loss: 0.2714 - val_accuracy: 0.9181\n",
      "Epoch 19/30\n",
      "511/511 [==============================] - 0s 369us/sample - loss: 0.0378 - accuracy: 0.9980 - val_loss: 0.2769 - val_accuracy: 0.9181\n",
      "Epoch 20/30\n",
      "511/511 [==============================] - 0s 229us/sample - loss: 0.0345 - accuracy: 0.9902 - val_loss: 0.2998 - val_accuracy: 0.9181\n",
      "Epoch 21/30\n",
      "511/511 [==============================] - 0s 651us/sample - loss: 0.0280 - accuracy: 0.9961 - val_loss: 0.3424 - val_accuracy: 0.9181\n",
      "Epoch 22/30\n",
      "511/511 [==============================] - 0s 338us/sample - loss: 0.0223 - accuracy: 1.0000 - val_loss: 0.3391 - val_accuracy: 0.9181\n",
      "Epoch 23/30\n",
      "511/511 [==============================] - 0s 297us/sample - loss: 0.0166 - accuracy: 1.0000 - val_loss: 0.3314 - val_accuracy: 0.9181\n",
      "Epoch 24/30\n",
      "511/511 [==============================] - 0s 311us/sample - loss: 0.0145 - accuracy: 1.0000 - val_loss: 0.3566 - val_accuracy: 0.9181\n",
      "Epoch 25/30\n",
      "511/511 [==============================] - 0s 578us/sample - loss: 0.0114 - accuracy: 1.0000 - val_loss: 0.3613 - val_accuracy: 0.9181\n",
      "Epoch 26/30\n",
      "511/511 [==============================] - 0s 295us/sample - loss: 0.0098 - accuracy: 1.0000 - val_loss: 0.3782 - val_accuracy: 0.9181\n",
      "Epoch 27/30\n",
      "511/511 [==============================] - 0s 255us/sample - loss: 0.0090 - accuracy: 1.0000 - val_loss: 0.3657 - val_accuracy: 0.9181\n",
      "Epoch 28/30\n",
      "511/511 [==============================] - 0s 521us/sample - loss: 0.0073 - accuracy: 1.0000 - val_loss: 0.4187 - val_accuracy: 0.9181\n",
      "Epoch 29/30\n",
      "511/511 [==============================] - 0s 358us/sample - loss: 0.0068 - accuracy: 1.0000 - val_loss: 0.3977 - val_accuracy: 0.9181\n",
      "Epoch 30/30\n",
      "511/511 [==============================] - 0s 306us/sample - loss: 0.0058 - accuracy: 1.0000 - val_loss: 0.4249 - val_accuracy: 0.9123\n"
     ]
    }
   ],
   "source": [
    "history = model.fit(padded, y_train, epochs=num_epochs, validation_data=(testing_padded, y_test));"
   ]
  },
  {
   "cell_type": "code",
   "execution_count": 11,
   "metadata": {},
   "outputs": [
    {
     "data": {
      "image/png": "[encoded data removed]",
      "text/plain": [
       "<Figure size 432x288 with 1 Axes>"
      ]
     },
     "metadata": {
      "needs_background": "light"
     },
     "output_type": "display_data"
    },
    {
     "data": {
      "image/png": "[encoded data removed]",
      "text/plain": [
       "<Figure size 432x288 with 1 Axes>"
      ]
     },
     "metadata": {
      "needs_background": "light"
     },
     "output_type": "display_data"
    }
   ],
   "source": [
    "def plot_graphs(history, string):\n",
    "    plt.plot(history.history[string])\n",
    "    plt.plot(history.history['val_'+string])\n",
    "    plt.xlabel('Epochs')\n",
    "    plt.ylabel(string)\n",
    "    plt.legend([string, 'val_'+string])\n",
    "    plt.show()\n",
    "    \n",
    "plot_graphs(history, 'accuracy')\n",
    "plot_graphs(history, 'loss')"
   ]
  },
  {
   "cell_type": "markdown",
   "metadata": {},
   "source": [
    "### Gerando arquivos para visualizar o embedding\n",
    "\n",
    "O snippet abaixo gera dois arquivos que podem ser visualizados se upados em https://projector.tensorflow.org\n",
    "\n",
    "*TODO*: implementar `projector` de `tensorboard.plugins`"
   ]
  },
  {
   "cell_type": "code",
   "execution_count": 12,
   "metadata": {},
   "outputs": [],
   "source": [
    "e = model.layers[0]\n",
    "weights = e.get_weights()[0]\n",
    "\n",
    "import io\n",
    "\n",
    "out_v = io.open('vecs.tsv', 'w', encoding='utf-8')\n",
    "out_m = io.open('meta.tsv', 'w', encoding='utf-8')\n",
    "\n",
    "for word_num in range(1, weights.shape[0]):\n",
    "    word = reverse_word_index[word_num]\n",
    "    embeddings = weights[word_num]\n",
    "    out_m.write(word + \"\\n\")\n",
    "    out_v.write('\\t'.join([str(x) for x in embeddings]) + \"\\n\")\n",
    "    \n",
    "out_v.close()\n",
    "out_m.close()"
   ]
  },
  {
   "cell_type": "code",
   "execution_count": 13,
   "metadata": {},
   "outputs": [
    {
     "name": "stdout",
     "output_type": "stream",
     "text": [
      "[[1.0037371e-03]\n",
      " [7.7756768e-01]\n",
      " [2.5371165e-04]\n",
      " [9.9100912e-01]\n",
      " [4.5041531e-01]]\n"
     ]
    }
   ],
   "source": [
    "generate_embeddings = lambda predict_sequences: pad_sequences(\n",
    "    tokenizer.texts_to_sequences(predict_sequences), \n",
    "    padding=padding_type, \n",
    "    truncating=trunc_type, \n",
    "    maxlen=padding_max_len)\n",
    "\n",
    "predict_on = generate_embeddings([\n",
    "    'Hoje é o aniversário do meu filho', \n",
    "    'oi gnt hj é meu niver', \n",
    "    'oi gnt hj não é meu niver',\n",
    "    'hoje é o meu aniversário',\n",
    "    'hoje não é o meu aniversário'\n",
    "])\n",
    "\n",
    "prediction = model.predict(predict_on)\n",
    "\n",
    "print(prediction)"
   ]
  },
  {
   "cell_type": "markdown",
   "metadata": {},
   "source": [
    "### Exportando para tensorflow.js"
   ]
  },
  {
   "cell_type": "code",
   "execution_count": 14,
   "metadata": {},
   "outputs": [],
   "source": [
    "%%capture\n",
    "!pip install tensorflowjs\n",
    "import json\n",
    "import tensorflowjs as tfjs"
   ]
  },
  {
   "cell_type": "code",
   "execution_count": 15,
   "metadata": {},
   "outputs": [],
   "source": [
    "def export_model(m, words_vocab):\n",
    "    tfjs.converters.save_keras_model(m, './__generated__')\n",
    "\n",
    "    with open(\"./__generated__/config.ts\", 'w') as f:\n",
    "        f.write('export const vocabulary_size = {};\\n\\n'.format(vocab_size))\n",
    "        f.write('export const oov_token = \"{}\";\\n\\n'.format(oov_token))\n",
    "        f.write('export const padding_type = \"{}\";\\n\\n'.format(padding_type))\n",
    "        f.write('export const trunc_type = \"{}\";\\n\\n'.format(trunc_type))\n",
    "        f.write('export const padding_max_len = {};\\n\\n'.format(padding_max_len))\n",
    "        f.write('export const vocabulary = {\\n')\n",
    "        for (index, l) in enumerate(json.dumps(words_vocab)[1:-1].split(\",\")):\n",
    "            if index < vocab_size:\n",
    "                f.write(\"  \"+l+',\\n')\n",
    "        f.write('};\\n')"
   ]
  },
  {
   "cell_type": "code",
   "execution_count": 16,
   "metadata": {},
   "outputs": [
    {
     "name": "stderr",
     "output_type": "stream",
     "text": [
      "/usr/local/lib/python3.6/dist-packages/tensorflowjs/converters/keras_h5_conversion.py:122: H5pyDeprecationWarning: The default file mode will change to 'r' (read-only) in h5py 3.0. To suppress this warning, pass the mode you need to h5py.File(), or set the global default h5.get_config().default_file_mode, or set the environment variable H5PY_DEFAULT_READONLY=1. Available modes are: 'r', 'r+', 'w', 'w-'/'x', 'a'. See the docs for details.\n",
      "  return h5py.File(h5file)\n"
     ]
    }
   ],
   "source": [
    "export_model(model, word_index)"
   ]
  }
 ],
 "metadata": {
  "kernelspec": {
   "display_name": "Python 3",
   "language": "python",
   "name": "python3"
  },
  "language_info": {
   "codemirror_mode": {
    "name": "ipython",
    "version": 3
   },
   "file_extension": ".py",
   "mimetype": "text/x-python",
   "name": "python",
   "nbconvert_exporter": "python",
   "pygments_lexer": "ipython3",
   "version": "3.6.9"
  }
 },
 "nbformat": 4,
 "nbformat_minor": 4
}
