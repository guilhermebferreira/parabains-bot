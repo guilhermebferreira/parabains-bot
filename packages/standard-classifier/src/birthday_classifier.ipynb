{
 "cells": [
  {
   "cell_type": "markdown",
   "metadata": {},
   "source": [
    "# Imports e variáveis globais"
   ]
  },
  {
   "cell_type": "code",
   "execution_count": 1,
   "metadata": {},
   "outputs": [],
   "source": [
    "%%capture\n",
    "!pip install pandas\n",
    "!pip install sklearn\n",
    "import pandas as pd\n",
    "from sklearn.model_selection import train_test_split\n",
    "import matplotlib.pyplot as plt"
   ]
  },
  {
   "cell_type": "code",
   "execution_count": 2,
   "metadata": {},
   "outputs": [
    {
     "name": "stdout",
     "output_type": "stream",
     "text": [
      "Tensorflow version 2.1.0\n"
     ]
    }
   ],
   "source": [
    "import tensorflow as tf\n",
    "from tensorflow.keras.preprocessing.text import Tokenizer\n",
    "from tensorflow.keras.preprocessing.sequence import pad_sequences\n",
    "\n",
    "print('Tensorflow version {}'.format(tf.__version__))"
   ]
  },
  {
   "cell_type": "markdown",
   "metadata": {},
   "source": [
    "Algumas variáveis globais para auxiliar no fine-tunning sem ter que procurá-las pelo código."
   ]
  },
  {
   "cell_type": "code",
   "execution_count": 3,
   "metadata": {},
   "outputs": [],
   "source": [
    "vocab_size = 100\n",
    "oov_token = '<OOV>'\n",
    "padding_type = 'post'\n",
    "trunc_type = 'post'\n",
    "padding_max_len = 20\n",
    "embedding_dim = 8\n",
    "num_epochs = 30"
   ]
  },
  {
   "cell_type": "markdown",
   "metadata": {},
   "source": [
    "# Manipulação dos dados"
   ]
  },
  {
   "cell_type": "code",
   "execution_count": 4,
   "metadata": {},
   "outputs": [
    {
     "data": {
      "text/html": [
       "<div>\n",
       "<style scoped>\n",
       "    .dataframe tbody tr th:only-of-type {\n",
       "        vertical-align: middle;\n",
       "    }\n",
       "\n",
       "    .dataframe tbody tr th {\n",
       "        vertical-align: top;\n",
       "    }\n",
       "\n",
       "    .dataframe thead th {\n",
       "        text-align: right;\n",
       "    }\n",
       "</style>\n",
       "<table border=\"1\" class=\"dataframe\">\n",
       "  <thead>\n",
       "    <tr style=\"text-align: right;\">\n",
       "      <th></th>\n",
       "      <th>url</th>\n",
       "      <th>text</th>\n",
       "      <th>is_birthday</th>\n",
       "    </tr>\n",
       "  </thead>\n",
       "  <tbody>\n",
       "    <tr>\n",
       "      <th>0</th>\n",
       "      <td>https://twitter.com/_LezShipp_/status/12466372...</td>\n",
       "      <td>Como hoje é meu aniversário e estamos de Karao...</td>\n",
       "      <td>1</td>\n",
       "    </tr>\n",
       "    <tr>\n",
       "      <th>1</th>\n",
       "      <td>https://twitter.com/Mariazinha8C/status/124663...</td>\n",
       "      <td>Hoje é aniversário de uma pessoa maravilhosa q...</td>\n",
       "      <td>0</td>\n",
       "    </tr>\n",
       "    <tr>\n",
       "      <th>2</th>\n",
       "      <td>https://twitter.com/penguinjjk/status/12466371...</td>\n",
       "      <td>hm kk hoje é meu aniversário eu sei ninguém li...</td>\n",
       "      <td>1</td>\n",
       "    </tr>\n",
       "    <tr>\n",
       "      <th>3</th>\n",
       "      <td>https://twitter.com/BrSouza7/status/1246637061...</td>\n",
       "      <td>Aniversário do bê hoje, meu neném está crescen...</td>\n",
       "      <td>0</td>\n",
       "    </tr>\n",
       "    <tr>\n",
       "      <th>4</th>\n",
       "      <td>https://twitter.com/LuaC1506/status/1246637017...</td>\n",
       "      <td>Hoje é aniversário de uma das pessoas mais imp...</td>\n",
       "      <td>0</td>\n",
       "    </tr>\n",
       "  </tbody>\n",
       "</table>\n",
       "</div>"
      ],
      "text/plain": [
       "                                                 url  \\\n",
       "0  https://twitter.com/_LezShipp_/status/12466372...   \n",
       "1  https://twitter.com/Mariazinha8C/status/124663...   \n",
       "2  https://twitter.com/penguinjjk/status/12466371...   \n",
       "3  https://twitter.com/BrSouza7/status/1246637061...   \n",
       "4  https://twitter.com/LuaC1506/status/1246637017...   \n",
       "\n",
       "                                                text  is_birthday  \n",
       "0  Como hoje é meu aniversário e estamos de Karao...            1  \n",
       "1  Hoje é aniversário de uma pessoa maravilhosa q...            0  \n",
       "2  hm kk hoje é meu aniversário eu sei ninguém li...            1  \n",
       "3  Aniversário do bê hoje, meu neném está crescen...            0  \n",
       "4  Hoje é aniversário de uma das pessoas mais imp...            0  "
      ]
     },
     "execution_count": 4,
     "metadata": {},
     "output_type": "execute_result"
    }
   ],
   "source": [
    "data = pd.read_csv('data.csv', sep=';')\n",
    "data.head()"
   ]
  },
  {
   "cell_type": "code",
   "execution_count": 5,
   "metadata": {},
   "outputs": [],
   "source": [
    "sentences = data['text']\n",
    "urls = data['url']\n",
    "is_birthday = data['is_birthday']"
   ]
  },
  {
   "cell_type": "code",
   "execution_count": 6,
   "metadata": {},
   "outputs": [
    {
     "name": "stdout",
     "output_type": "stream",
     "text": [
      "Train set tem 224 linhas.\n",
      "Test set tem 75 linhas.\n"
     ]
    }
   ],
   "source": [
    "X_train, X_test, y_train, y_test = train_test_split(\n",
    "    sentences, \n",
    "    is_birthday, \n",
    "    shuffle=True, \n",
    "    random_state=42,\n",
    "    stratify=is_birthday\n",
    ")\n",
    "\n",
    "print(\"Train set tem {} linhas.\\nTest set tem {} linhas.\".format(X_train.shape[0], X_test.shape[0]))"
   ]
  },
  {
   "cell_type": "markdown",
   "metadata": {},
   "source": [
    "# Word embeddings"
   ]
  },
  {
   "cell_type": "code",
   "execution_count": 7,
   "metadata": {},
   "outputs": [],
   "source": [
    "tokenizer = Tokenizer(num_words=vocab_size, oov_token=oov_token)\n",
    "tokenizer.fit_on_texts(X_train)\n",
    "word_index = tokenizer.word_index\n",
    "reverse_word_index = dict([(value, key) for (key, value) in word_index.items()])"
   ]
  },
  {
   "cell_type": "code",
   "execution_count": 8,
   "metadata": {},
   "outputs": [],
   "source": [
    "# Train sequences\n",
    "sequences = tokenizer.texts_to_sequences(X_train)\n",
    "padded = pad_sequences(sequences, padding=padding_type, truncating=trunc_type, maxlen=padding_max_len)\n",
    "\n",
    "# Test sequences\n",
    "testing_sequences = tokenizer.texts_to_sequences(X_test)\n",
    "testing_padded = pad_sequences(testing_sequences, padding=padding_type, truncating=trunc_type, maxlen=padding_max_len)"
   ]
  },
  {
   "cell_type": "code",
   "execution_count": 9,
   "metadata": {},
   "outputs": [
    {
     "name": "stdout",
     "output_type": "stream",
     "text": [
      "Model: \"sequential\"\n",
      "_________________________________________________________________\n",
      "Layer (type)                 Output Shape              Param #   \n",
      "=================================================================\n",
      "embedding (Embedding)        (None, 20, 8)             800       \n",
      "_________________________________________________________________\n",
      "flatten (Flatten)            (None, 160)               0         \n",
      "_________________________________________________________________\n",
      "dense (Dense)                (None, 6)                 966       \n",
      "_________________________________________________________________\n",
      "dense_1 (Dense)              (None, 1)                 7         \n",
      "=================================================================\n",
      "Total params: 1,773\n",
      "Trainable params: 1,773\n",
      "Non-trainable params: 0\n",
      "_________________________________________________________________\n"
     ]
    }
   ],
   "source": [
    "model = tf.keras.Sequential([\n",
    "    tf.keras.layers.Embedding(vocab_size, embedding_dim, input_length=padding_max_len),\n",
    "    tf.keras.layers.Flatten(),\n",
    "    tf.keras.layers.Dense(6, activation='relu'),\n",
    "    tf.keras.layers.Dense(1, activation='sigmoid')\n",
    "])\n",
    "model.compile(loss='binary_crossentropy',optimizer='adam',metrics=['accuracy'])\n",
    "model.summary()"
   ]
  },
  {
   "cell_type": "code",
   "execution_count": 10,
   "metadata": {},
   "outputs": [
    {
     "name": "stdout",
     "output_type": "stream",
     "text": [
      "Train on 224 samples, validate on 75 samples\n",
      "Epoch 1/30\n",
      "224/224 [==============================] - 0s 2ms/sample - loss: 0.6855 - accuracy: 0.6161 - val_loss: 0.6735 - val_accuracy: 0.8533\n",
      "Epoch 2/30\n",
      "224/224 [==============================] - 0s 161us/sample - loss: 0.6668 - accuracy: 0.8125 - val_loss: 0.6559 - val_accuracy: 0.8400\n",
      "Epoch 3/30\n",
      "224/224 [==============================] - 0s 180us/sample - loss: 0.6476 - accuracy: 0.8170 - val_loss: 0.6372 - val_accuracy: 0.8133\n",
      "Epoch 4/30\n",
      "224/224 [==============================] - 0s 148us/sample - loss: 0.6267 - accuracy: 0.8170 - val_loss: 0.6170 - val_accuracy: 0.8133\n",
      "Epoch 5/30\n",
      "224/224 [==============================] - 0s 148us/sample - loss: 0.6028 - accuracy: 0.8170 - val_loss: 0.5946 - val_accuracy: 0.8133\n",
      "Epoch 6/30\n",
      "224/224 [==============================] - 0s 147us/sample - loss: 0.5754 - accuracy: 0.8170 - val_loss: 0.5702 - val_accuracy: 0.8133\n",
      "Epoch 7/30\n",
      "224/224 [==============================] - 0s 156us/sample - loss: 0.5448 - accuracy: 0.8170 - val_loss: 0.5449 - val_accuracy: 0.8133\n",
      "Epoch 8/30\n",
      "224/224 [==============================] - 0s 155us/sample - loss: 0.5141 - accuracy: 0.8170 - val_loss: 0.5182 - val_accuracy: 0.8133\n",
      "Epoch 9/30\n",
      "224/224 [==============================] - 0s 153us/sample - loss: 0.4820 - accuracy: 0.8170 - val_loss: 0.4919 - val_accuracy: 0.8133\n",
      "Epoch 10/30\n",
      "224/224 [==============================] - 0s 169us/sample - loss: 0.4515 - accuracy: 0.8170 - val_loss: 0.4676 - val_accuracy: 0.8133\n",
      "Epoch 11/30\n",
      "224/224 [==============================] - 0s 159us/sample - loss: 0.4224 - accuracy: 0.8170 - val_loss: 0.4466 - val_accuracy: 0.8133\n",
      "Epoch 12/30\n",
      "224/224 [==============================] - 0s 165us/sample - loss: 0.3976 - accuracy: 0.8170 - val_loss: 0.4289 - val_accuracy: 0.8133\n",
      "Epoch 13/30\n",
      "224/224 [==============================] - 0s 158us/sample - loss: 0.3753 - accuracy: 0.8259 - val_loss: 0.4150 - val_accuracy: 0.8133\n",
      "Epoch 14/30\n",
      "224/224 [==============================] - 0s 150us/sample - loss: 0.3572 - accuracy: 0.8348 - val_loss: 0.4039 - val_accuracy: 0.8133\n",
      "Epoch 15/30\n",
      "224/224 [==============================] - 0s 149us/sample - loss: 0.3427 - accuracy: 0.8393 - val_loss: 0.3949 - val_accuracy: 0.8000\n",
      "Epoch 16/30\n",
      "224/224 [==============================] - 0s 167us/sample - loss: 0.3310 - accuracy: 0.8482 - val_loss: 0.3872 - val_accuracy: 0.8000\n",
      "Epoch 17/30\n",
      "224/224 [==============================] - 0s 149us/sample - loss: 0.3198 - accuracy: 0.8527 - val_loss: 0.3807 - val_accuracy: 0.7867\n",
      "Epoch 18/30\n",
      "224/224 [==============================] - 0s 156us/sample - loss: 0.3095 - accuracy: 0.8571 - val_loss: 0.3752 - val_accuracy: 0.7867\n",
      "Epoch 19/30\n",
      "224/224 [==============================] - 0s 173us/sample - loss: 0.3005 - accuracy: 0.8571 - val_loss: 0.3696 - val_accuracy: 0.7867\n",
      "Epoch 20/30\n",
      "224/224 [==============================] - 0s 175us/sample - loss: 0.2909 - accuracy: 0.8661 - val_loss: 0.3640 - val_accuracy: 0.8267\n",
      "Epoch 21/30\n",
      "224/224 [==============================] - 0s 193us/sample - loss: 0.2824 - accuracy: 0.8661 - val_loss: 0.3589 - val_accuracy: 0.8267\n",
      "Epoch 22/30\n",
      "224/224 [==============================] - 0s 177us/sample - loss: 0.2726 - accuracy: 0.8750 - val_loss: 0.3541 - val_accuracy: 0.8267\n",
      "Epoch 23/30\n",
      "224/224 [==============================] - 0s 188us/sample - loss: 0.2637 - accuracy: 0.8839 - val_loss: 0.3497 - val_accuracy: 0.8267\n",
      "Epoch 24/30\n",
      "224/224 [==============================] - 0s 132us/sample - loss: 0.2547 - accuracy: 0.8884 - val_loss: 0.3451 - val_accuracy: 0.8400\n",
      "Epoch 25/30\n",
      "224/224 [==============================] - 0s 170us/sample - loss: 0.2453 - accuracy: 0.8973 - val_loss: 0.3410 - val_accuracy: 0.8400\n",
      "Epoch 26/30\n",
      "224/224 [==============================] - 0s 200us/sample - loss: 0.2363 - accuracy: 0.9018 - val_loss: 0.3372 - val_accuracy: 0.8800\n",
      "Epoch 27/30\n",
      "224/224 [==============================] - 0s 215us/sample - loss: 0.2285 - accuracy: 0.9062 - val_loss: 0.3335 - val_accuracy: 0.8800\n",
      "Epoch 28/30\n",
      "224/224 [==============================] - 0s 176us/sample - loss: 0.2191 - accuracy: 0.9286 - val_loss: 0.3306 - val_accuracy: 0.8800\n",
      "Epoch 29/30\n",
      "224/224 [==============================] - 0s 164us/sample - loss: 0.2106 - accuracy: 0.9375 - val_loss: 0.3273 - val_accuracy: 0.8800\n",
      "Epoch 30/30\n",
      "224/224 [==============================] - 0s 200us/sample - loss: 0.2021 - accuracy: 0.9464 - val_loss: 0.3251 - val_accuracy: 0.8800\n"
     ]
    }
   ],
   "source": [
    "history = model.fit(padded, y_train, epochs=num_epochs, validation_data=(testing_padded, y_test));"
   ]
  },
  {
   "cell_type": "code",
   "execution_count": 11,
   "metadata": {},
   "outputs": [
    {
     "data": {
      "image/png": "[encoded data removed]",
      "text/plain": [
       "<Figure size 432x288 with 1 Axes>"
      ]
     },
     "metadata": {
      "needs_background": "light"
     },
     "output_type": "display_data"
    },
    {
     "data": {
      "image/png": "[encoded data removed]",
      "text/plain": [
       "<Figure size 432x288 with 1 Axes>"
      ]
     },
     "metadata": {
      "needs_background": "light"
     },
     "output_type": "display_data"
    }
   ],
   "source": [
    "def plot_graphs(history, string):\n",
    "    plt.plot(history.history[string])\n",
    "    plt.plot(history.history['val_'+string])\n",
    "    plt.xlabel('Epochs')\n",
    "    plt.ylabel(string)\n",
    "    plt.legend([string, 'val_'+string])\n",
    "    plt.show()\n",
    "    \n",
    "plot_graphs(history, 'accuracy')\n",
    "plot_graphs(history, 'loss')"
   ]
  },
  {
   "cell_type": "markdown",
   "metadata": {},
   "source": [
    "### Gerando arquivos para visualizar o embedding\n",
    "\n",
    "O snippet abaixo gera dois arquivos que podem ser visualizados se upados em https://projector.tensorflow.org\n",
    "\n",
    "*TODO*: implementar `projector` de `tensorboard.plugins`"
   ]
  },
  {
   "cell_type": "code",
   "execution_count": 12,
   "metadata": {},
   "outputs": [],
   "source": [
    "e = model.layers[0]\n",
    "weights = e.get_weights()[0]\n",
    "\n",
    "import io\n",
    "\n",
    "out_v = io.open('vecs.tsv', 'w', encoding='utf-8')\n",
    "out_m = io.open('meta.tsv', 'w', encoding='utf-8')\n",
    "\n",
    "for word_num in range(1, weights.shape[0]):\n",
    "    word = reverse_word_index[word_num]\n",
    "    embeddings = weights[word_num]\n",
    "    out_m.write(word + \"\\n\")\n",
    "    out_v.write('\\t'.join([str(x) for x in embeddings]) + \"\\n\")\n",
    "    \n",
    "out_v.close()\n",
    "out_m.close()"
   ]
  }
 ],
 "metadata": {
  "kernelspec": {
   "display_name": "Python 3",
   "language": "python",
   "name": "python3"
  },
  "language_info": {
   "codemirror_mode": {
    "name": "ipython",
    "version": 3
   },
   "file_extension": ".py",
   "mimetype": "text/x-python",
   "name": "python",
   "nbconvert_exporter": "python",
   "pygments_lexer": "ipython3",
   "version": "3.6.9"
  }
 },
 "nbformat": 4,
 "nbformat_minor": 4
}
