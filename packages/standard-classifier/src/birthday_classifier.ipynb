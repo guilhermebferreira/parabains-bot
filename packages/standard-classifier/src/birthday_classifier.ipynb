{
 "cells": [
  {
   "cell_type": "markdown",
   "metadata": {},
   "source": [
    "# Imports e variáveis globais"
   ]
  },
  {
   "cell_type": "code",
   "execution_count": 18,
   "metadata": {},
   "outputs": [],
   "source": [
    "%%capture\n",
    "!pip install pandas\n",
    "!pip install sklearn\n",
    "import pandas as pd\n",
    "from sklearn.model_selection import train_test_split\n",
    "import matplotlib.pyplot as plt"
   ]
  },
  {
   "cell_type": "code",
   "execution_count": 19,
   "metadata": {},
   "outputs": [
    {
     "name": "stdout",
     "output_type": "stream",
     "text": [
      "Tensorflow version 2.1.0\n"
     ]
    }
   ],
   "source": [
    "import tensorflow as tf\n",
    "from tensorflow.keras.preprocessing.text import Tokenizer\n",
    "from tensorflow.keras.preprocessing.sequence import pad_sequences\n",
    "\n",
    "print('Tensorflow version {}'.format(tf.__version__))"
   ]
  },
  {
   "cell_type": "markdown",
   "metadata": {},
   "source": [
    "Algumas variáveis globais para auxiliar no fine-tunning sem ter que procurá-las pelo código."
   ]
  },
  {
   "cell_type": "code",
   "execution_count": 20,
   "metadata": {},
   "outputs": [],
   "source": [
    "vocab_size = 50\n",
    "oov_token = '<OOV>'\n",
    "padding_type = 'post'\n",
    "trunc_type = 'post'\n",
    "padding_max_len = 25\n",
    "embedding_dim = 8\n",
    "num_epochs = 50"
   ]
  },
  {
   "cell_type": "markdown",
   "metadata": {},
   "source": [
    "# Manipulação dos dados"
   ]
  },
  {
   "cell_type": "code",
   "execution_count": 21,
   "metadata": {},
   "outputs": [
    {
     "data": {
      "text/html": [
       "<div>\n",
       "<style scoped>\n",
       "    .dataframe tbody tr th:only-of-type {\n",
       "        vertical-align: middle;\n",
       "    }\n",
       "\n",
       "    .dataframe tbody tr th {\n",
       "        vertical-align: top;\n",
       "    }\n",
       "\n",
       "    .dataframe thead th {\n",
       "        text-align: right;\n",
       "    }\n",
       "</style>\n",
       "<table border=\"1\" class=\"dataframe\">\n",
       "  <thead>\n",
       "    <tr style=\"text-align: right;\">\n",
       "      <th></th>\n",
       "      <th>url</th>\n",
       "      <th>text</th>\n",
       "      <th>is_birthday</th>\n",
       "    </tr>\n",
       "  </thead>\n",
       "  <tbody>\n",
       "    <tr>\n",
       "      <th>0</th>\n",
       "      <td>https://twitter.com/mauriciolopesx/status/1247...</td>\n",
       "      <td>meu aniversário hoje e...   o que eu esperava:...</td>\n",
       "      <td>1</td>\n",
       "    </tr>\n",
       "    <tr>\n",
       "      <th>1</th>\n",
       "      <td>https://twitter.com/catherinealvs3/status/1247...</td>\n",
       "      <td>hoje é meu aniversário e eu passei basicamente...</td>\n",
       "      <td>1</td>\n",
       "    </tr>\n",
       "    <tr>\n",
       "      <th>2</th>\n",
       "      <td>https://twitter.com/Pao_de_batata20/status/124...</td>\n",
       "      <td>@BabuSantana ADM manda um salve, hoje é meu an...</td>\n",
       "      <td>1</td>\n",
       "    </tr>\n",
       "    <tr>\n",
       "      <th>3</th>\n",
       "      <td>https://twitter.com/Pao_de_batata20/status/124...</td>\n",
       "      <td>@anapaularenault @anapaularenault hoje é meu a...</td>\n",
       "      <td>1</td>\n",
       "    </tr>\n",
       "    <tr>\n",
       "      <th>4</th>\n",
       "      <td>https://twitter.com/felipealbano_/status/12479...</td>\n",
       "      <td>@giucatao hoje é meu aniversário mas quem tá d...</td>\n",
       "      <td>1</td>\n",
       "    </tr>\n",
       "  </tbody>\n",
       "</table>\n",
       "</div>"
      ],
      "text/plain": [
       "                                                 url  \\\n",
       "0  https://twitter.com/mauriciolopesx/status/1247...   \n",
       "1  https://twitter.com/catherinealvs3/status/1247...   \n",
       "2  https://twitter.com/Pao_de_batata20/status/124...   \n",
       "3  https://twitter.com/Pao_de_batata20/status/124...   \n",
       "4  https://twitter.com/felipealbano_/status/12479...   \n",
       "\n",
       "                                                text  is_birthday  \n",
       "0  meu aniversário hoje e...   o que eu esperava:...            1  \n",
       "1  hoje é meu aniversário e eu passei basicamente...            1  \n",
       "2  @BabuSantana ADM manda um salve, hoje é meu an...            1  \n",
       "3  @anapaularenault @anapaularenault hoje é meu a...            1  \n",
       "4  @giucatao hoje é meu aniversário mas quem tá d...            1  "
      ]
     },
     "execution_count": 21,
     "metadata": {},
     "output_type": "execute_result"
    }
   ],
   "source": [
    "data = pd.read_csv('data.csv', sep=';')\n",
    "data.head()"
   ]
  },
  {
   "cell_type": "code",
   "execution_count": 22,
   "metadata": {},
   "outputs": [],
   "source": [
    "sentences = data['text']\n",
    "urls = data['url']\n",
    "is_birthday = data['is_birthday']"
   ]
  },
  {
   "cell_type": "code",
   "execution_count": 23,
   "metadata": {},
   "outputs": [
    {
     "name": "stdout",
     "output_type": "stream",
     "text": [
      "Train set tem 372 linhas.\n",
      "Test set tem 124 linhas.\n"
     ]
    }
   ],
   "source": [
    "X_train, X_test, y_train, y_test = train_test_split(\n",
    "    sentences, \n",
    "    is_birthday, \n",
    "    shuffle=True, \n",
    "    random_state=42,\n",
    "    stratify=is_birthday\n",
    ")\n",
    "\n",
    "print(\"Train set tem {} linhas.\\nTest set tem {} linhas.\".format(X_train.shape[0], X_test.shape[0]))"
   ]
  },
  {
   "cell_type": "markdown",
   "metadata": {},
   "source": [
    "# Word embeddings"
   ]
  },
  {
   "cell_type": "code",
   "execution_count": 24,
   "metadata": {},
   "outputs": [],
   "source": [
    "tokenizer = Tokenizer(num_words=vocab_size, oov_token=oov_token)\n",
    "tokenizer.fit_on_texts(X_train)\n",
    "word_index = tokenizer.word_index\n",
    "reverse_word_index = dict([(value, key) for (key, value) in word_index.items()])"
   ]
  },
  {
   "cell_type": "code",
   "execution_count": 25,
   "metadata": {},
   "outputs": [],
   "source": [
    "# Train sequences\n",
    "sequences = tokenizer.texts_to_sequences(X_train)\n",
    "padded = pad_sequences(sequences, padding=padding_type, truncating=trunc_type, maxlen=padding_max_len)\n",
    "\n",
    "# Test sequences\n",
    "testing_sequences = tokenizer.texts_to_sequences(X_test)\n",
    "testing_padded = pad_sequences(testing_sequences, padding=padding_type, truncating=trunc_type, maxlen=padding_max_len)"
   ]
  },
  {
   "cell_type": "code",
   "execution_count": 26,
   "metadata": {},
   "outputs": [
    {
     "name": "stdout",
     "output_type": "stream",
     "text": [
      "Model: \"sequential_1\"\n",
      "_________________________________________________________________\n",
      "Layer (type)                 Output Shape              Param #   \n",
      "=================================================================\n",
      "embedding_1 (Embedding)      (None, 25, 8)             400       \n",
      "_________________________________________________________________\n",
      "bidirectional (Bidirectional (None, 25, 256)           140288    \n",
      "_________________________________________________________________\n",
      "bidirectional_1 (Bidirection (None, 128)               164352    \n",
      "_________________________________________________________________\n",
      "dense_2 (Dense)              (None, 24)                3096      \n",
      "_________________________________________________________________\n",
      "dense_3 (Dense)              (None, 1)                 25        \n",
      "=================================================================\n",
      "Total params: 308,161\n",
      "Trainable params: 308,161\n",
      "Non-trainable params: 0\n",
      "_________________________________________________________________\n"
     ]
    }
   ],
   "source": [
    "model = tf.keras.Sequential([\n",
    "    tf.keras.layers.Embedding(vocab_size, embedding_dim, input_length=padding_max_len),\n",
    "#     If the data is big enough, uncomment the LSTM steps below and remove the Flatten step\n",
    "    tf.keras.layers.Bidirectional(tf.keras.layers.LSTM(128, return_sequences=True)),\n",
    "    tf.keras.layers.Bidirectional(tf.keras.layers.LSTM(64)),\n",
    "#     tf.keras.layers.Flatten(),\n",
    "    tf.keras.layers.Dense(24, activation='relu'),\n",
    "    tf.keras.layers.Dense(1, activation='sigmoid')\n",
    "])\n",
    "model.compile(loss='binary_crossentropy',optimizer='adam',metrics=['accuracy'])\n",
    "model.summary()"
   ]
  },
  {
   "cell_type": "code",
   "execution_count": 27,
   "metadata": {},
   "outputs": [
    {
     "name": "stdout",
     "output_type": "stream",
     "text": [
      "Train on 372 samples, validate on 124 samples\n",
      "Epoch 1/50\n",
      "372/372 [==============================] - 8s 21ms/sample - loss: 0.6271 - accuracy: 0.7581 - val_loss: 0.4769 - val_accuracy: 0.8145\n",
      "Epoch 2/50\n",
      "372/372 [==============================] - 1s 4ms/sample - loss: 0.4859 - accuracy: 0.8145 - val_loss: 0.4757 - val_accuracy: 0.8145\n",
      "Epoch 3/50\n",
      "372/372 [==============================] - 1s 4ms/sample - loss: 0.4670 - accuracy: 0.8145 - val_loss: 0.4597 - val_accuracy: 0.8145\n",
      "Epoch 4/50\n",
      "372/372 [==============================] - 1s 3ms/sample - loss: 0.4275 - accuracy: 0.8065 - val_loss: 0.4442 - val_accuracy: 0.7500\n",
      "Epoch 5/50\n",
      "372/372 [==============================] - 1s 3ms/sample - loss: 0.4097 - accuracy: 0.7984 - val_loss: 0.4553 - val_accuracy: 0.8145\n",
      "Epoch 6/50\n",
      "372/372 [==============================] - 1s 3ms/sample - loss: 0.3895 - accuracy: 0.8145 - val_loss: 0.4236 - val_accuracy: 0.8145\n",
      "Epoch 7/50\n",
      "372/372 [==============================] - 1s 3ms/sample - loss: 0.3746 - accuracy: 0.8145 - val_loss: 0.4145 - val_accuracy: 0.8145\n",
      "Epoch 8/50\n",
      "372/372 [==============================] - 1s 4ms/sample - loss: 0.3572 - accuracy: 0.8360 - val_loss: 0.3724 - val_accuracy: 0.8226\n",
      "Epoch 9/50\n",
      "372/372 [==============================] - 1s 3ms/sample - loss: 0.3338 - accuracy: 0.8468 - val_loss: 0.3364 - val_accuracy: 0.8387\n",
      "Epoch 10/50\n",
      "372/372 [==============================] - 2s 4ms/sample - loss: 0.3001 - accuracy: 0.8575 - val_loss: 0.2997 - val_accuracy: 0.8548\n",
      "Epoch 11/50\n",
      "372/372 [==============================] - 1s 3ms/sample - loss: 0.2609 - accuracy: 0.8844 - val_loss: 0.2759 - val_accuracy: 0.8710\n",
      "Epoch 12/50\n",
      "372/372 [==============================] - 1s 4ms/sample - loss: 0.2445 - accuracy: 0.8952 - val_loss: 0.2836 - val_accuracy: 0.8871\n",
      "Epoch 13/50\n",
      "372/372 [==============================] - 1s 4ms/sample - loss: 0.2305 - accuracy: 0.8925 - val_loss: 0.2783 - val_accuracy: 0.8468\n",
      "Epoch 14/50\n",
      "372/372 [==============================] - 1s 4ms/sample - loss: 0.2235 - accuracy: 0.9086 - val_loss: 0.2912 - val_accuracy: 0.8226\n",
      "Epoch 15/50\n",
      "372/372 [==============================] - 1s 3ms/sample - loss: 0.2160 - accuracy: 0.9113 - val_loss: 0.3037 - val_accuracy: 0.8548\n",
      "Epoch 16/50\n",
      "372/372 [==============================] - 1s 3ms/sample - loss: 0.2075 - accuracy: 0.9220 - val_loss: 0.3008 - val_accuracy: 0.8468\n",
      "Epoch 17/50\n",
      "372/372 [==============================] - 1s 3ms/sample - loss: 0.2131 - accuracy: 0.9086 - val_loss: 0.3053 - val_accuracy: 0.8468\n",
      "Epoch 18/50\n",
      "372/372 [==============================] - 1s 4ms/sample - loss: 0.2079 - accuracy: 0.9140 - val_loss: 0.3378 - val_accuracy: 0.8306\n",
      "Epoch 19/50\n",
      "372/372 [==============================] - 1s 4ms/sample - loss: 0.1953 - accuracy: 0.9220 - val_loss: 0.3866 - val_accuracy: 0.8548\n",
      "Epoch 20/50\n",
      "372/372 [==============================] - 1s 3ms/sample - loss: 0.1891 - accuracy: 0.9247 - val_loss: 0.3931 - val_accuracy: 0.8710\n",
      "Epoch 21/50\n",
      "372/372 [==============================] - 1s 3ms/sample - loss: 0.1861 - accuracy: 0.9247 - val_loss: 0.4437 - val_accuracy: 0.8548\n",
      "Epoch 22/50\n",
      "372/372 [==============================] - 1s 3ms/sample - loss: 0.2360 - accuracy: 0.8844 - val_loss: 0.3948 - val_accuracy: 0.8548\n",
      "Epoch 23/50\n",
      "372/372 [==============================] - 1s 3ms/sample - loss: 0.1948 - accuracy: 0.9247 - val_loss: 0.4507 - val_accuracy: 0.8226\n",
      "Epoch 24/50\n",
      "372/372 [==============================] - 1s 3ms/sample - loss: 0.1859 - accuracy: 0.9247 - val_loss: 0.3706 - val_accuracy: 0.8548\n",
      "Epoch 25/50\n",
      "372/372 [==============================] - 1s 3ms/sample - loss: 0.1880 - accuracy: 0.9194 - val_loss: 0.4573 - val_accuracy: 0.8629\n",
      "Epoch 26/50\n",
      "372/372 [==============================] - 1s 3ms/sample - loss: 0.1981 - accuracy: 0.9194 - val_loss: 0.4198 - val_accuracy: 0.8468\n",
      "Epoch 27/50\n",
      "372/372 [==============================] - 1s 3ms/sample - loss: 0.1891 - accuracy: 0.9274 - val_loss: 0.4311 - val_accuracy: 0.8710\n",
      "Epoch 28/50\n",
      "372/372 [==============================] - 1s 4ms/sample - loss: 0.1826 - accuracy: 0.9220 - val_loss: 0.4638 - val_accuracy: 0.8629\n",
      "Epoch 29/50\n",
      "372/372 [==============================] - 1s 3ms/sample - loss: 0.1771 - accuracy: 0.9274 - val_loss: 0.4330 - val_accuracy: 0.8468\n",
      "Epoch 30/50\n",
      "372/372 [==============================] - 1s 4ms/sample - loss: 0.1718 - accuracy: 0.9247 - val_loss: 0.3791 - val_accuracy: 0.7903\n",
      "Epoch 31/50\n",
      "372/372 [==============================] - 1s 3ms/sample - loss: 0.1932 - accuracy: 0.9247 - val_loss: 0.4696 - val_accuracy: 0.8790\n",
      "Epoch 32/50\n",
      "372/372 [==============================] - 1s 3ms/sample - loss: 0.1865 - accuracy: 0.9194 - val_loss: 0.4117 - val_accuracy: 0.8468\n",
      "Epoch 33/50\n",
      "372/372 [==============================] - 1s 3ms/sample - loss: 0.1769 - accuracy: 0.9247 - val_loss: 0.4026 - val_accuracy: 0.8306\n",
      "Epoch 34/50\n",
      "372/372 [==============================] - 1s 3ms/sample - loss: 0.1667 - accuracy: 0.9247 - val_loss: 0.4217 - val_accuracy: 0.8548\n",
      "Epoch 35/50\n",
      "372/372 [==============================] - 1s 4ms/sample - loss: 0.1895 - accuracy: 0.9220 - val_loss: 0.4595 - val_accuracy: 0.8387\n",
      "Epoch 36/50\n",
      "372/372 [==============================] - 1s 4ms/sample - loss: 0.1833 - accuracy: 0.9194 - val_loss: 0.3760 - val_accuracy: 0.8226\n",
      "Epoch 37/50\n",
      "372/372 [==============================] - 1s 4ms/sample - loss: 0.1587 - accuracy: 0.9274 - val_loss: 0.4356 - val_accuracy: 0.8468\n",
      "Epoch 38/50\n",
      "372/372 [==============================] - 1s 3ms/sample - loss: 0.1471 - accuracy: 0.9355 - val_loss: 0.4660 - val_accuracy: 0.8548\n",
      "Epoch 39/50\n",
      "372/372 [==============================] - 1s 4ms/sample - loss: 0.1438 - accuracy: 0.9409 - val_loss: 0.4529 - val_accuracy: 0.8226\n",
      "Epoch 40/50\n",
      "372/372 [==============================] - 1s 4ms/sample - loss: 0.1443 - accuracy: 0.9462 - val_loss: 0.4997 - val_accuracy: 0.8387\n",
      "Epoch 41/50\n",
      "372/372 [==============================] - 1s 4ms/sample - loss: 0.1404 - accuracy: 0.9409 - val_loss: 0.4709 - val_accuracy: 0.8145\n",
      "Epoch 42/50\n",
      "372/372 [==============================] - 1s 3ms/sample - loss: 0.1442 - accuracy: 0.9301 - val_loss: 0.4707 - val_accuracy: 0.8306\n",
      "Epoch 43/50\n",
      "372/372 [==============================] - 1s 3ms/sample - loss: 0.1551 - accuracy: 0.9328 - val_loss: 0.3988 - val_accuracy: 0.8387\n",
      "Epoch 44/50\n",
      "372/372 [==============================] - 1s 3ms/sample - loss: 0.2268 - accuracy: 0.9086 - val_loss: 0.4096 - val_accuracy: 0.8306\n",
      "Epoch 45/50\n",
      "372/372 [==============================] - 1s 3ms/sample - loss: 0.2384 - accuracy: 0.8925 - val_loss: 0.3665 - val_accuracy: 0.8306\n",
      "Epoch 46/50\n",
      "372/372 [==============================] - 1s 3ms/sample - loss: 0.2138 - accuracy: 0.9113 - val_loss: 0.3996 - val_accuracy: 0.8387\n",
      "Epoch 47/50\n",
      "372/372 [==============================] - 1s 4ms/sample - loss: 0.2057 - accuracy: 0.9059 - val_loss: 0.4144 - val_accuracy: 0.8548\n",
      "Epoch 48/50\n",
      "372/372 [==============================] - 1s 4ms/sample - loss: 0.1807 - accuracy: 0.9220 - val_loss: 0.4834 - val_accuracy: 0.8226\n",
      "Epoch 49/50\n",
      "372/372 [==============================] - 1s 4ms/sample - loss: 0.1658 - accuracy: 0.9328 - val_loss: 0.5211 - val_accuracy: 0.8387\n",
      "Epoch 50/50\n",
      "372/372 [==============================] - 1s 4ms/sample - loss: 0.1673 - accuracy: 0.9274 - val_loss: 0.4891 - val_accuracy: 0.8387\n"
     ]
    }
   ],
   "source": [
    "history = model.fit(padded, y_train, epochs=num_epochs, validation_data=(testing_padded, y_test));"
   ]
  },
  {
   "cell_type": "code",
   "execution_count": 28,
   "metadata": {},
   "outputs": [
    {
     "data": {
      "image/png": "[encoded data removed]",
      "text/plain": [
       "<Figure size 432x288 with 1 Axes>"
      ]
     },
     "metadata": {
      "needs_background": "light"
     },
     "output_type": "display_data"
    },
    {
     "data": {
      "image/png": "[encoded data removed]",
      "text/plain": [
       "<Figure size 432x288 with 1 Axes>"
      ]
     },
     "metadata": {
      "needs_background": "light"
     },
     "output_type": "display_data"
    }
   ],
   "source": [
    "def plot_graphs(history, string):\n",
    "    plt.plot(history.history[string])\n",
    "    plt.plot(history.history['val_'+string])\n",
    "    plt.xlabel('Epochs')\n",
    "    plt.ylabel(string)\n",
    "    plt.legend([string, 'val_'+string])\n",
    "    plt.show()\n",
    "    \n",
    "plot_graphs(history, 'accuracy')\n",
    "plot_graphs(history, 'loss')"
   ]
  },
  {
   "cell_type": "markdown",
   "metadata": {},
   "source": [
    "### Gerando arquivos para visualizar o embedding\n",
    "\n",
    "O snippet abaixo gera dois arquivos que podem ser visualizados se upados em https://projector.tensorflow.org\n",
    "\n",
    "*TODO*: implementar `projector` de `tensorboard.plugins`"
   ]
  },
  {
   "cell_type": "code",
   "execution_count": 29,
   "metadata": {},
   "outputs": [],
   "source": [
    "e = model.layers[0]\n",
    "weights = e.get_weights()[0]\n",
    "\n",
    "import io\n",
    "\n",
    "out_v = io.open('vecs.tsv', 'w', encoding='utf-8')\n",
    "out_m = io.open('meta.tsv', 'w', encoding='utf-8')\n",
    "\n",
    "for word_num in range(1, weights.shape[0]):\n",
    "    word = reverse_word_index[word_num]\n",
    "    embeddings = weights[word_num]\n",
    "    out_m.write(word + \"\\n\")\n",
    "    out_v.write('\\t'.join([str(x) for x in embeddings]) + \"\\n\")\n",
    "    \n",
    "out_v.close()\n",
    "out_m.close()"
   ]
  },
  {
   "cell_type": "code",
   "execution_count": 30,
   "metadata": {},
   "outputs": [
    {
     "name": "stdout",
     "output_type": "stream",
     "text": [
      "[[0.01798628]\n",
      " [0.8653141 ]\n",
      " [0.02353023]]\n"
     ]
    }
   ],
   "source": [
    "generate_embeddings = lambda predict_sequences: pad_sequences(\n",
    "    tokenizer.texts_to_sequences(predict_sequences), \n",
    "    padding=padding_type, \n",
    "    truncating=trunc_type, \n",
    "    maxlen=padding_max_len)\n",
    "\n",
    "predict_on = generate_embeddings([\n",
    "    'Hoje é o aniversário do meu filho', \n",
    "    'oi gnt hj é meu niver', \n",
    "    'oi gnt hj não é meu niver'])\n",
    "\n",
    "prediction = model.predict(predict_on)\n",
    "\n",
    "print(prediction)"
   ]
  },
  {
   "cell_type": "markdown",
   "metadata": {},
   "source": [
    "### Exportando para tensorflow.js"
   ]
  },
  {
   "cell_type": "code",
   "execution_count": 31,
   "metadata": {},
   "outputs": [],
   "source": [
    "%%capture\n",
    "!pip install tensorflowjs\n",
    "import json\n",
    "import tensorflowjs as tfjs"
   ]
  },
  {
   "cell_type": "code",
   "execution_count": 32,
   "metadata": {},
   "outputs": [],
   "source": [
    "def export_model(m, words_vocab):\n",
    "    tfjs.converters.save_keras_model(m, './__generated__')\n",
    "\n",
    "    with open(\"./__generated__/config.ts\", 'w') as f:\n",
    "        f.write('export const vocabulary_size = {};\\n\\n'.format(vocab_size))\n",
    "        f.write('export const oov_token = \"{}\";\\n\\n'.format(oov_token))\n",
    "        f.write('export const padding_type = \"{}\";\\n\\n'.format(padding_type))\n",
    "        f.write('export const trunc_type = \"{}\";\\n\\n'.format(trunc_type))\n",
    "        f.write('export const padding_max_len = {};\\n\\n'.format(padding_max_len))\n",
    "        f.write('export const vocabulary = {\\n')\n",
    "        for (index, l) in enumerate(json.dumps(words_vocab)[1:-1].split(\",\")):\n",
    "            if index < vocab_size:\n",
    "                f.write(\"  \"+l+',\\n')\n",
    "        f.write('};\\n')"
   ]
  },
  {
   "cell_type": "code",
   "execution_count": 33,
   "metadata": {},
   "outputs": [
    {
     "name": "stderr",
     "output_type": "stream",
     "text": [
      "/usr/local/lib/python3.6/dist-packages/tensorflowjs/converters/keras_h5_conversion.py:122: H5pyDeprecationWarning: The default file mode will change to 'r' (read-only) in h5py 3.0. To suppress this warning, pass the mode you need to h5py.File(), or set the global default h5.get_config().default_file_mode, or set the environment variable H5PY_DEFAULT_READONLY=1. Available modes are: 'r', 'r+', 'w', 'w-'/'x', 'a'. See the docs for details.\n",
      "  return h5py.File(h5file)\n"
     ]
    }
   ],
   "source": [
    "export_model(model, word_index)"
   ]
  }
 ],
 "metadata": {
  "kernelspec": {
   "display_name": "Python 3",
   "language": "python",
   "name": "python3"
  },
  "language_info": {
   "codemirror_mode": {
    "name": "ipython",
    "version": 3
   },
   "file_extension": ".py",
   "mimetype": "text/x-python",
   "name": "python",
   "nbconvert_exporter": "python",
   "pygments_lexer": "ipython3",
   "version": "3.6.9"
  }
 },
 "nbformat": 4,
 "nbformat_minor": 4
}
